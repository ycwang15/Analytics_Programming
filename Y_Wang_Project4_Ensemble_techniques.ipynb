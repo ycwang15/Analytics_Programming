{
 "cells": [
  {
   "cell_type": "markdown",
   "metadata": {
    "id": "N0V4-RmREoIt"
   },
   "source": [
    "# Project4 \n",
    "\n",
    "Team member: Dengyi Liu, Xin Xiang, Yuchen Wang"
   ]
  },
  {
   "cell_type": "markdown",
   "metadata": {
    "id": "Dfw7kVtWK6CC"
   },
   "source": [
    "## Import necessary libraries"
   ]
  },
  {
   "cell_type": "code",
   "execution_count": 225,
   "metadata": {
    "id": "H-cEnHsOE_n8"
   },
   "outputs": [],
   "source": [
    "import pandas as pd\n",
    "import numpy as np\n",
    "\n",
    "from sklearn import metrics\n",
    "from sklearn.model_selection import train_test_split\n",
    "from sklearn.model_selection import GridSearchCV\n",
    "\n",
    "from sklearn.model_selection import train_test_split\n",
    "from sklearn.linear_model import LogisticRegression\n",
    "from sklearn.tree import DecisionTreeRegressor, DecisionTreeClassifier\n",
    "from sklearn.ensemble import (\n",
    "    BaggingClassifier,\n",
    "    RandomForestClassifier,\n",
    "    BaggingRegressor,\n",
    "    RandomForestRegressor,\n",
    "    GradientBoostingRegressor,\n",
    "    AdaBoostRegressor,\n",
    "    StackingRegressor,\n",
    "    AdaBoostClassifier,\n",
    "    GradientBoostingClassifier,\n",
    "    StackingClassifier,\n",
    ")\n",
    "from xgboost import XGBClassifier\n",
    "from sklearn.metrics import confusion_matrix, classification_report\n",
    "from sklearn.metrics import (\n",
    "    accuracy_score,\n",
    "    precision_score,\n",
    "    recall_score,\n",
    "    f1_score,\n",
    "    roc_auc_score,\n",
    ")\n",
    "import scipy.stats as stats\n",
    "\n",
    "import seaborn as sns\n",
    "import matplotlib.pyplot as plt\n",
    "\n",
    "%matplotlib inline\n",
    "\n",
    "import warnings\n",
    "\n",
    "warnings.filterwarnings(\"ignore\")"
   ]
  },
  {
   "cell_type": "markdown",
   "metadata": {
    "id": "zyqcUSWnK_6j"
   },
   "source": [
    "## Import dataset from Github"
   ]
  },
  {
   "cell_type": "code",
   "execution_count": 115,
   "metadata": {
    "colab": {
     "base_uri": "https://localhost:8080/",
     "height": 206
    },
    "id": "CIh_wGYIFLDJ",
    "outputId": "5631ff8c-b7c5-46ab-8232-9f465ecd2335"
   },
   "outputs": [
    {
     "data": {
      "text/html": [
       "\n",
       "  <div id=\"df-387cbce4-69c2-44fc-af16-7d7ff9f89407\">\n",
       "    <div class=\"colab-df-container\">\n",
       "      <div>\n",
       "<style scoped>\n",
       "    .dataframe tbody tr th:only-of-type {\n",
       "        vertical-align: middle;\n",
       "    }\n",
       "\n",
       "    .dataframe tbody tr th {\n",
       "        vertical-align: top;\n",
       "    }\n",
       "\n",
       "    .dataframe thead th {\n",
       "        text-align: right;\n",
       "    }\n",
       "</style>\n",
       "<table border=\"1\" class=\"dataframe\">\n",
       "  <thead>\n",
       "    <tr style=\"text-align: right;\">\n",
       "      <th></th>\n",
       "      <th>Diagnosis</th>\n",
       "      <th>Age</th>\n",
       "      <th>Gender</th>\n",
       "      <th>PainType</th>\n",
       "      <th>BloodPres</th>\n",
       "      <th>Chol</th>\n",
       "      <th>FBSugar</th>\n",
       "      <th>RestECG</th>\n",
       "      <th>MaxHeartRate</th>\n",
       "      <th>ExAngina</th>\n",
       "      <th>STPeakSlope</th>\n",
       "    </tr>\n",
       "  </thead>\n",
       "  <tbody>\n",
       "    <tr>\n",
       "      <th>0</th>\n",
       "      <td>0</td>\n",
       "      <td>63</td>\n",
       "      <td>1</td>\n",
       "      <td>1</td>\n",
       "      <td>145</td>\n",
       "      <td>233</td>\n",
       "      <td>1</td>\n",
       "      <td>2</td>\n",
       "      <td>150</td>\n",
       "      <td>0</td>\n",
       "      <td>3</td>\n",
       "    </tr>\n",
       "    <tr>\n",
       "      <th>1</th>\n",
       "      <td>2</td>\n",
       "      <td>67</td>\n",
       "      <td>1</td>\n",
       "      <td>4</td>\n",
       "      <td>160</td>\n",
       "      <td>286</td>\n",
       "      <td>0</td>\n",
       "      <td>2</td>\n",
       "      <td>108</td>\n",
       "      <td>1</td>\n",
       "      <td>2</td>\n",
       "    </tr>\n",
       "    <tr>\n",
       "      <th>2</th>\n",
       "      <td>1</td>\n",
       "      <td>67</td>\n",
       "      <td>1</td>\n",
       "      <td>4</td>\n",
       "      <td>120</td>\n",
       "      <td>229</td>\n",
       "      <td>0</td>\n",
       "      <td>2</td>\n",
       "      <td>129</td>\n",
       "      <td>1</td>\n",
       "      <td>2</td>\n",
       "    </tr>\n",
       "    <tr>\n",
       "      <th>3</th>\n",
       "      <td>0</td>\n",
       "      <td>37</td>\n",
       "      <td>1</td>\n",
       "      <td>3</td>\n",
       "      <td>130</td>\n",
       "      <td>250</td>\n",
       "      <td>0</td>\n",
       "      <td>0</td>\n",
       "      <td>187</td>\n",
       "      <td>0</td>\n",
       "      <td>3</td>\n",
       "    </tr>\n",
       "    <tr>\n",
       "      <th>4</th>\n",
       "      <td>0</td>\n",
       "      <td>41</td>\n",
       "      <td>0</td>\n",
       "      <td>2</td>\n",
       "      <td>130</td>\n",
       "      <td>204</td>\n",
       "      <td>0</td>\n",
       "      <td>2</td>\n",
       "      <td>172</td>\n",
       "      <td>0</td>\n",
       "      <td>1</td>\n",
       "    </tr>\n",
       "  </tbody>\n",
       "</table>\n",
       "</div>\n",
       "      <button class=\"colab-df-convert\" onclick=\"convertToInteractive('df-387cbce4-69c2-44fc-af16-7d7ff9f89407')\"\n",
       "              title=\"Convert this dataframe to an interactive table.\"\n",
       "              style=\"display:none;\">\n",
       "        \n",
       "  <svg xmlns=\"http://www.w3.org/2000/svg\" height=\"24px\"viewBox=\"0 0 24 24\"\n",
       "       width=\"24px\">\n",
       "    <path d=\"M0 0h24v24H0V0z\" fill=\"none\"/>\n",
       "    <path d=\"M18.56 5.44l.94 2.06.94-2.06 2.06-.94-2.06-.94-.94-2.06-.94 2.06-2.06.94zm-11 1L8.5 8.5l.94-2.06 2.06-.94-2.06-.94L8.5 2.5l-.94 2.06-2.06.94zm10 10l.94 2.06.94-2.06 2.06-.94-2.06-.94-.94-2.06-.94 2.06-2.06.94z\"/><path d=\"M17.41 7.96l-1.37-1.37c-.4-.4-.92-.59-1.43-.59-.52 0-1.04.2-1.43.59L10.3 9.45l-7.72 7.72c-.78.78-.78 2.05 0 2.83L4 21.41c.39.39.9.59 1.41.59.51 0 1.02-.2 1.41-.59l7.78-7.78 2.81-2.81c.8-.78.8-2.07 0-2.86zM5.41 20L4 18.59l7.72-7.72 1.47 1.35L5.41 20z\"/>\n",
       "  </svg>\n",
       "      </button>\n",
       "      \n",
       "  <style>\n",
       "    .colab-df-container {\n",
       "      display:flex;\n",
       "      flex-wrap:wrap;\n",
       "      gap: 12px;\n",
       "    }\n",
       "\n",
       "    .colab-df-convert {\n",
       "      background-color: #E8F0FE;\n",
       "      border: none;\n",
       "      border-radius: 50%;\n",
       "      cursor: pointer;\n",
       "      display: none;\n",
       "      fill: #1967D2;\n",
       "      height: 32px;\n",
       "      padding: 0 0 0 0;\n",
       "      width: 32px;\n",
       "    }\n",
       "\n",
       "    .colab-df-convert:hover {\n",
       "      background-color: #E2EBFA;\n",
       "      box-shadow: 0px 1px 2px rgba(60, 64, 67, 0.3), 0px 1px 3px 1px rgba(60, 64, 67, 0.15);\n",
       "      fill: #174EA6;\n",
       "    }\n",
       "\n",
       "    [theme=dark] .colab-df-convert {\n",
       "      background-color: #3B4455;\n",
       "      fill: #D2E3FC;\n",
       "    }\n",
       "\n",
       "    [theme=dark] .colab-df-convert:hover {\n",
       "      background-color: #434B5C;\n",
       "      box-shadow: 0px 1px 3px 1px rgba(0, 0, 0, 0.15);\n",
       "      filter: drop-shadow(0px 1px 2px rgba(0, 0, 0, 0.3));\n",
       "      fill: #FFFFFF;\n",
       "    }\n",
       "  </style>\n",
       "\n",
       "      <script>\n",
       "        const buttonEl =\n",
       "          document.querySelector('#df-387cbce4-69c2-44fc-af16-7d7ff9f89407 button.colab-df-convert');\n",
       "        buttonEl.style.display =\n",
       "          google.colab.kernel.accessAllowed ? 'block' : 'none';\n",
       "\n",
       "        async function convertToInteractive(key) {\n",
       "          const element = document.querySelector('#df-387cbce4-69c2-44fc-af16-7d7ff9f89407');\n",
       "          const dataTable =\n",
       "            await google.colab.kernel.invokeFunction('convertToInteractive',\n",
       "                                                     [key], {});\n",
       "          if (!dataTable) return;\n",
       "\n",
       "          const docLinkHtml = 'Like what you see? Visit the ' +\n",
       "            '<a target=\"_blank\" href=https://colab.research.google.com/notebooks/data_table.ipynb>data table notebook</a>'\n",
       "            + ' to learn more about interactive tables.';\n",
       "          element.innerHTML = '';\n",
       "          dataTable['output_type'] = 'display_data';\n",
       "          await google.colab.output.renderOutput(dataTable, element);\n",
       "          const docLink = document.createElement('div');\n",
       "          docLink.innerHTML = docLinkHtml;\n",
       "          element.appendChild(docLink);\n",
       "        }\n",
       "      </script>\n",
       "    </div>\n",
       "  </div>\n",
       "  "
      ],
      "text/plain": [
       "   Diagnosis  Age  Gender  PainType  BloodPres  Chol  FBSugar  RestECG  \\\n",
       "0          0   63       1         1        145   233        1        2   \n",
       "1          2   67       1         4        160   286        0        2   \n",
       "2          1   67       1         4        120   229        0        2   \n",
       "3          0   37       1         3        130   250        0        0   \n",
       "4          0   41       0         2        130   204        0        2   \n",
       "\n",
       "   MaxHeartRate  ExAngina  STPeakSlope  \n",
       "0           150         0            3  \n",
       "1           108         1            2  \n",
       "2           129         1            2  \n",
       "3           187         0            3  \n",
       "4           172         0            1  "
      ]
     },
     "execution_count": 115,
     "metadata": {},
     "output_type": "execute_result"
    }
   ],
   "source": [
    "df = pd.read_csv(\n",
    "    \"https://raw.githubusercontent.com/ycwang15/Analytics_Programming/Data/Project%204%20DATA.csv\"\n",
    ")\n",
    "df.head()"
   ]
  },
  {
   "cell_type": "code",
   "execution_count": 116,
   "metadata": {
    "id": "91lVZ0AJFdgg"
   },
   "outputs": [],
   "source": [
    "df_copy = df.copy()"
   ]
  },
  {
   "cell_type": "markdown",
   "metadata": {
    "id": "_1i_TRPVFzpv"
   },
   "source": [
    "Data Overview"
   ]
  },
  {
   "cell_type": "code",
   "execution_count": 117,
   "metadata": {
    "colab": {
     "base_uri": "https://localhost:8080/"
    },
    "id": "WbuxptxKF5Tt",
    "outputId": "a70a8409-5977-4014-88ff-3e2b4b451c1a"
   },
   "outputs": [
    {
     "data": {
      "text/plain": [
       "(303, 11)"
      ]
     },
     "execution_count": 117,
     "metadata": {},
     "output_type": "execute_result"
    }
   ],
   "source": [
    "df.shape"
   ]
  },
  {
   "cell_type": "code",
   "execution_count": 118,
   "metadata": {
    "colab": {
     "base_uri": "https://localhost:8080/"
    },
    "id": "vpNjblEAFfZP",
    "outputId": "f926e090-d33e-497a-bbfb-adc4472edb09"
   },
   "outputs": [
    {
     "name": "stdout",
     "output_type": "stream",
     "text": [
      "<class 'pandas.core.frame.DataFrame'>\n",
      "RangeIndex: 303 entries, 0 to 302\n",
      "Data columns (total 11 columns):\n",
      " #   Column        Non-Null Count  Dtype\n",
      "---  ------        --------------  -----\n",
      " 0   Diagnosis     303 non-null    int64\n",
      " 1   Age           303 non-null    int64\n",
      " 2   Gender        303 non-null    int64\n",
      " 3   PainType      303 non-null    int64\n",
      " 4   BloodPres     303 non-null    int64\n",
      " 5   Chol          303 non-null    int64\n",
      " 6   FBSugar       303 non-null    int64\n",
      " 7   RestECG       303 non-null    int64\n",
      " 8   MaxHeartRate  303 non-null    int64\n",
      " 9   ExAngina      303 non-null    int64\n",
      " 10  STPeakSlope   303 non-null    int64\n",
      "dtypes: int64(11)\n",
      "memory usage: 26.2 KB\n"
     ]
    }
   ],
   "source": [
    "df.info()"
   ]
  },
  {
   "cell_type": "code",
   "execution_count": 119,
   "metadata": {
    "colab": {
     "base_uri": "https://localhost:8080/",
     "height": 394
    },
    "id": "IK3CCyydF3rJ",
    "outputId": "ee2c80ea-787c-481f-d8dc-e716554d108f"
   },
   "outputs": [
    {
     "data": {
      "text/html": [
       "\n",
       "  <div id=\"df-b908d45a-f595-42ea-b47c-299c67fe7469\">\n",
       "    <div class=\"colab-df-container\">\n",
       "      <div>\n",
       "<style scoped>\n",
       "    .dataframe tbody tr th:only-of-type {\n",
       "        vertical-align: middle;\n",
       "    }\n",
       "\n",
       "    .dataframe tbody tr th {\n",
       "        vertical-align: top;\n",
       "    }\n",
       "\n",
       "    .dataframe thead th {\n",
       "        text-align: right;\n",
       "    }\n",
       "</style>\n",
       "<table border=\"1\" class=\"dataframe\">\n",
       "  <thead>\n",
       "    <tr style=\"text-align: right;\">\n",
       "      <th></th>\n",
       "      <th>count</th>\n",
       "      <th>mean</th>\n",
       "      <th>std</th>\n",
       "      <th>min</th>\n",
       "      <th>25%</th>\n",
       "      <th>50%</th>\n",
       "      <th>75%</th>\n",
       "      <th>max</th>\n",
       "    </tr>\n",
       "  </thead>\n",
       "  <tbody>\n",
       "    <tr>\n",
       "      <th>Diagnosis</th>\n",
       "      <td>303.0</td>\n",
       "      <td>0.937294</td>\n",
       "      <td>1.228536</td>\n",
       "      <td>0.0</td>\n",
       "      <td>0.0</td>\n",
       "      <td>0.0</td>\n",
       "      <td>2.0</td>\n",
       "      <td>4.0</td>\n",
       "    </tr>\n",
       "    <tr>\n",
       "      <th>Age</th>\n",
       "      <td>303.0</td>\n",
       "      <td>54.438944</td>\n",
       "      <td>9.038662</td>\n",
       "      <td>29.0</td>\n",
       "      <td>48.0</td>\n",
       "      <td>56.0</td>\n",
       "      <td>61.0</td>\n",
       "      <td>77.0</td>\n",
       "    </tr>\n",
       "    <tr>\n",
       "      <th>Gender</th>\n",
       "      <td>303.0</td>\n",
       "      <td>0.679868</td>\n",
       "      <td>0.467299</td>\n",
       "      <td>0.0</td>\n",
       "      <td>0.0</td>\n",
       "      <td>1.0</td>\n",
       "      <td>1.0</td>\n",
       "      <td>1.0</td>\n",
       "    </tr>\n",
       "    <tr>\n",
       "      <th>PainType</th>\n",
       "      <td>303.0</td>\n",
       "      <td>3.158416</td>\n",
       "      <td>0.960126</td>\n",
       "      <td>1.0</td>\n",
       "      <td>3.0</td>\n",
       "      <td>3.0</td>\n",
       "      <td>4.0</td>\n",
       "      <td>4.0</td>\n",
       "    </tr>\n",
       "    <tr>\n",
       "      <th>BloodPres</th>\n",
       "      <td>303.0</td>\n",
       "      <td>131.689769</td>\n",
       "      <td>17.599748</td>\n",
       "      <td>94.0</td>\n",
       "      <td>120.0</td>\n",
       "      <td>130.0</td>\n",
       "      <td>140.0</td>\n",
       "      <td>200.0</td>\n",
       "    </tr>\n",
       "    <tr>\n",
       "      <th>Chol</th>\n",
       "      <td>303.0</td>\n",
       "      <td>246.693069</td>\n",
       "      <td>51.776918</td>\n",
       "      <td>126.0</td>\n",
       "      <td>211.0</td>\n",
       "      <td>241.0</td>\n",
       "      <td>275.0</td>\n",
       "      <td>564.0</td>\n",
       "    </tr>\n",
       "    <tr>\n",
       "      <th>FBSugar</th>\n",
       "      <td>303.0</td>\n",
       "      <td>0.148515</td>\n",
       "      <td>0.356198</td>\n",
       "      <td>0.0</td>\n",
       "      <td>0.0</td>\n",
       "      <td>0.0</td>\n",
       "      <td>0.0</td>\n",
       "      <td>1.0</td>\n",
       "    </tr>\n",
       "    <tr>\n",
       "      <th>RestECG</th>\n",
       "      <td>303.0</td>\n",
       "      <td>0.990099</td>\n",
       "      <td>0.994971</td>\n",
       "      <td>0.0</td>\n",
       "      <td>0.0</td>\n",
       "      <td>1.0</td>\n",
       "      <td>2.0</td>\n",
       "      <td>2.0</td>\n",
       "    </tr>\n",
       "    <tr>\n",
       "      <th>MaxHeartRate</th>\n",
       "      <td>303.0</td>\n",
       "      <td>149.607261</td>\n",
       "      <td>22.875003</td>\n",
       "      <td>71.0</td>\n",
       "      <td>133.5</td>\n",
       "      <td>153.0</td>\n",
       "      <td>166.0</td>\n",
       "      <td>202.0</td>\n",
       "    </tr>\n",
       "    <tr>\n",
       "      <th>ExAngina</th>\n",
       "      <td>303.0</td>\n",
       "      <td>0.326733</td>\n",
       "      <td>0.469794</td>\n",
       "      <td>0.0</td>\n",
       "      <td>0.0</td>\n",
       "      <td>0.0</td>\n",
       "      <td>1.0</td>\n",
       "      <td>1.0</td>\n",
       "    </tr>\n",
       "    <tr>\n",
       "      <th>STPeakSlope</th>\n",
       "      <td>303.0</td>\n",
       "      <td>1.600660</td>\n",
       "      <td>0.616226</td>\n",
       "      <td>1.0</td>\n",
       "      <td>1.0</td>\n",
       "      <td>2.0</td>\n",
       "      <td>2.0</td>\n",
       "      <td>3.0</td>\n",
       "    </tr>\n",
       "  </tbody>\n",
       "</table>\n",
       "</div>\n",
       "      <button class=\"colab-df-convert\" onclick=\"convertToInteractive('df-b908d45a-f595-42ea-b47c-299c67fe7469')\"\n",
       "              title=\"Convert this dataframe to an interactive table.\"\n",
       "              style=\"display:none;\">\n",
       "        \n",
       "  <svg xmlns=\"http://www.w3.org/2000/svg\" height=\"24px\"viewBox=\"0 0 24 24\"\n",
       "       width=\"24px\">\n",
       "    <path d=\"M0 0h24v24H0V0z\" fill=\"none\"/>\n",
       "    <path d=\"M18.56 5.44l.94 2.06.94-2.06 2.06-.94-2.06-.94-.94-2.06-.94 2.06-2.06.94zm-11 1L8.5 8.5l.94-2.06 2.06-.94-2.06-.94L8.5 2.5l-.94 2.06-2.06.94zm10 10l.94 2.06.94-2.06 2.06-.94-2.06-.94-.94-2.06-.94 2.06-2.06.94z\"/><path d=\"M17.41 7.96l-1.37-1.37c-.4-.4-.92-.59-1.43-.59-.52 0-1.04.2-1.43.59L10.3 9.45l-7.72 7.72c-.78.78-.78 2.05 0 2.83L4 21.41c.39.39.9.59 1.41.59.51 0 1.02-.2 1.41-.59l7.78-7.78 2.81-2.81c.8-.78.8-2.07 0-2.86zM5.41 20L4 18.59l7.72-7.72 1.47 1.35L5.41 20z\"/>\n",
       "  </svg>\n",
       "      </button>\n",
       "      \n",
       "  <style>\n",
       "    .colab-df-container {\n",
       "      display:flex;\n",
       "      flex-wrap:wrap;\n",
       "      gap: 12px;\n",
       "    }\n",
       "\n",
       "    .colab-df-convert {\n",
       "      background-color: #E8F0FE;\n",
       "      border: none;\n",
       "      border-radius: 50%;\n",
       "      cursor: pointer;\n",
       "      display: none;\n",
       "      fill: #1967D2;\n",
       "      height: 32px;\n",
       "      padding: 0 0 0 0;\n",
       "      width: 32px;\n",
       "    }\n",
       "\n",
       "    .colab-df-convert:hover {\n",
       "      background-color: #E2EBFA;\n",
       "      box-shadow: 0px 1px 2px rgba(60, 64, 67, 0.3), 0px 1px 3px 1px rgba(60, 64, 67, 0.15);\n",
       "      fill: #174EA6;\n",
       "    }\n",
       "\n",
       "    [theme=dark] .colab-df-convert {\n",
       "      background-color: #3B4455;\n",
       "      fill: #D2E3FC;\n",
       "    }\n",
       "\n",
       "    [theme=dark] .colab-df-convert:hover {\n",
       "      background-color: #434B5C;\n",
       "      box-shadow: 0px 1px 3px 1px rgba(0, 0, 0, 0.15);\n",
       "      filter: drop-shadow(0px 1px 2px rgba(0, 0, 0, 0.3));\n",
       "      fill: #FFFFFF;\n",
       "    }\n",
       "  </style>\n",
       "\n",
       "      <script>\n",
       "        const buttonEl =\n",
       "          document.querySelector('#df-b908d45a-f595-42ea-b47c-299c67fe7469 button.colab-df-convert');\n",
       "        buttonEl.style.display =\n",
       "          google.colab.kernel.accessAllowed ? 'block' : 'none';\n",
       "\n",
       "        async function convertToInteractive(key) {\n",
       "          const element = document.querySelector('#df-b908d45a-f595-42ea-b47c-299c67fe7469');\n",
       "          const dataTable =\n",
       "            await google.colab.kernel.invokeFunction('convertToInteractive',\n",
       "                                                     [key], {});\n",
       "          if (!dataTable) return;\n",
       "\n",
       "          const docLinkHtml = 'Like what you see? Visit the ' +\n",
       "            '<a target=\"_blank\" href=https://colab.research.google.com/notebooks/data_table.ipynb>data table notebook</a>'\n",
       "            + ' to learn more about interactive tables.';\n",
       "          element.innerHTML = '';\n",
       "          dataTable['output_type'] = 'display_data';\n",
       "          await google.colab.output.renderOutput(dataTable, element);\n",
       "          const docLink = document.createElement('div');\n",
       "          docLink.innerHTML = docLinkHtml;\n",
       "          element.appendChild(docLink);\n",
       "        }\n",
       "      </script>\n",
       "    </div>\n",
       "  </div>\n",
       "  "
      ],
      "text/plain": [
       "              count        mean        std    min    25%    50%    75%    max\n",
       "Diagnosis     303.0    0.937294   1.228536    0.0    0.0    0.0    2.0    4.0\n",
       "Age           303.0   54.438944   9.038662   29.0   48.0   56.0   61.0   77.0\n",
       "Gender        303.0    0.679868   0.467299    0.0    0.0    1.0    1.0    1.0\n",
       "PainType      303.0    3.158416   0.960126    1.0    3.0    3.0    4.0    4.0\n",
       "BloodPres     303.0  131.689769  17.599748   94.0  120.0  130.0  140.0  200.0\n",
       "Chol          303.0  246.693069  51.776918  126.0  211.0  241.0  275.0  564.0\n",
       "FBSugar       303.0    0.148515   0.356198    0.0    0.0    0.0    0.0    1.0\n",
       "RestECG       303.0    0.990099   0.994971    0.0    0.0    1.0    2.0    2.0\n",
       "MaxHeartRate  303.0  149.607261  22.875003   71.0  133.5  153.0  166.0  202.0\n",
       "ExAngina      303.0    0.326733   0.469794    0.0    0.0    0.0    1.0    1.0\n",
       "STPeakSlope   303.0    1.600660   0.616226    1.0    1.0    2.0    2.0    3.0"
      ]
     },
     "execution_count": 119,
     "metadata": {},
     "output_type": "execute_result"
    }
   ],
   "source": [
    "df.describe().T"
   ]
  },
  {
   "cell_type": "code",
   "execution_count": 120,
   "metadata": {
    "colab": {
     "base_uri": "https://localhost:8080/"
    },
    "id": "u6hLYbFFF_Gz",
    "outputId": "e4946b8a-aff4-4922-d1f2-62938942f7af"
   },
   "outputs": [
    {
     "data": {
      "text/plain": [
       "Diagnosis       0\n",
       "Age             0\n",
       "Gender          0\n",
       "PainType        0\n",
       "BloodPres       0\n",
       "Chol            0\n",
       "FBSugar         0\n",
       "RestECG         0\n",
       "MaxHeartRate    0\n",
       "ExAngina        0\n",
       "STPeakSlope     0\n",
       "dtype: int64"
      ]
     },
     "execution_count": 120,
     "metadata": {},
     "output_type": "execute_result"
    }
   ],
   "source": [
    "df.isnull().sum()"
   ]
  },
  {
   "cell_type": "code",
   "execution_count": 121,
   "metadata": {
    "colab": {
     "base_uri": "https://localhost:8080/"
    },
    "id": "o_68mmrOF_Qb",
    "outputId": "bf967fc9-0806-4ddb-d756-fb690c6cc5c0"
   },
   "outputs": [
    {
     "data": {
      "text/plain": [
       "0"
      ]
     },
     "execution_count": 121,
     "metadata": {},
     "output_type": "execute_result"
    }
   ],
   "source": [
    "df.duplicated().sum()"
   ]
  },
  {
   "cell_type": "markdown",
   "metadata": {
    "id": "o-Rlh0KMGKJS"
   },
   "source": [
    "\n",
    "\n",
    "*   There are 303 rows and 11 columns in this dataset.\n",
    "*   No missing values and duplicated values here which is a good news.\n",
    "*   The data type of all of the columns are the \"int64\", we will convert some of them into appropriate type.\n",
    "\n",
    "\n",
    "\n"
   ]
  },
  {
   "cell_type": "markdown",
   "metadata": {
    "id": "PpOjKzM_PRgT"
   },
   "source": [
    "## Feature Engineering"
   ]
  },
  {
   "cell_type": "markdown",
   "metadata": {
    "id": "iwC6UJhVPYNr"
   },
   "source": [
    "* Convert certain columns from int to object.\n",
    "* Replace the number in PainType and STeakSlope with appropriate object.\n",
    "* Combine different number into one number, for example, both '1' and '2' in the column Diagnosis indicate the people has the heart disease, so we will replace 2 with 1, and the same situation in the column 'RestECG'."
   ]
  },
  {
   "cell_type": "markdown",
   "metadata": {
    "id": "NkZE9b_0ZQZb"
   },
   "source": [
    "### Convert the column PainType and STPeakSlope from int64 to object, and then using appropriate string to replace the each number."
   ]
  },
  {
   "cell_type": "code",
   "execution_count": 122,
   "metadata": {
    "id": "SRcZeoCcF_TB"
   },
   "outputs": [],
   "source": [
    "df[['PainType','STPeakSlope']] = df[['PainType','STPeakSlope']].astype(str) "
   ]
  },
  {
   "cell_type": "code",
   "execution_count": 123,
   "metadata": {
    "colab": {
     "base_uri": "https://localhost:8080/"
    },
    "id": "H03BsRlvQZFy",
    "outputId": "25b7941d-54d0-415f-ea32-2b3b04bd14e3"
   },
   "outputs": [
    {
     "data": {
      "text/plain": [
       "array(['Typical Angina', 'asymptomatic', 'non\\x02anginal pain',\n",
       "       'atypical angina'], dtype=object)"
      ]
     },
     "execution_count": 123,
     "metadata": {},
     "output_type": "execute_result"
    }
   ],
   "source": [
    "df['PainType'] = df['PainType'].replace(str(1),'Typical Angina')\n",
    "df['PainType'] = df['PainType'].replace(str(2),'atypical angina')\n",
    "df['PainType'] = df['PainType'].replace(str(3),'non\u0002anginal pain')\n",
    "df['PainType'] = df['PainType'].replace(str(4),'asymptomatic')\n",
    "df['PainType'].unique()"
   ]
  },
  {
   "cell_type": "code",
   "execution_count": 124,
   "metadata": {
    "colab": {
     "base_uri": "https://localhost:8080/"
    },
    "id": "gd-zSKVTQZKq",
    "outputId": "d47eb7ef-bab4-4f22-f610-0ecd0bd0d423"
   },
   "outputs": [
    {
     "data": {
      "text/plain": [
       "array(['downsloping', 'flat', 'upsloping'], dtype=object)"
      ]
     },
     "execution_count": 124,
     "metadata": {},
     "output_type": "execute_result"
    }
   ],
   "source": [
    "df['STPeakSlope'] = df['STPeakSlope'].replace(str(1),'upsloping')\n",
    "df['STPeakSlope'] = df['STPeakSlope'].replace(str(2),'flat')\n",
    "df['STPeakSlope'] = df['STPeakSlope'].replace(str(3),'downsloping')\n",
    "df['STPeakSlope'].unique()"
   ]
  },
  {
   "cell_type": "markdown",
   "metadata": {
    "id": "I_Y_9PTiZgTw"
   },
   "source": [
    "### Check the unique number in the column RestECG and Diagnosis."
   ]
  },
  {
   "cell_type": "code",
   "execution_count": 125,
   "metadata": {
    "colab": {
     "base_uri": "https://localhost:8080/"
    },
    "id": "Pzc97lc2F_dr",
    "outputId": "f080db59-f43c-4228-c6a5-029de7deb1d1"
   },
   "outputs": [
    {
     "data": {
      "text/plain": [
       "0    151\n",
       "2    148\n",
       "1      4\n",
       "Name: RestECG, dtype: int64"
      ]
     },
     "execution_count": 125,
     "metadata": {},
     "output_type": "execute_result"
    }
   ],
   "source": [
    "df['RestECG'].value_counts()"
   ]
  },
  {
   "cell_type": "code",
   "execution_count": 126,
   "metadata": {
    "colab": {
     "base_uri": "https://localhost:8080/"
    },
    "id": "u13XiUgKF_gU",
    "outputId": "3d0728f3-c01d-424e-e3bb-a1ccc029969c"
   },
   "outputs": [
    {
     "data": {
      "text/plain": [
       "0    164\n",
       "1     55\n",
       "2     36\n",
       "3     35\n",
       "4     13\n",
       "Name: Diagnosis, dtype: int64"
      ]
     },
     "execution_count": 126,
     "metadata": {},
     "output_type": "execute_result"
    }
   ],
   "source": [
    "df['Diagnosis'].value_counts()"
   ]
  },
  {
   "cell_type": "markdown",
   "metadata": {
    "id": "CmgsaeS9bS7c"
   },
   "source": [
    "### Change all numbers that greater than 1 into 1 in Diagnosis and RestECG column."
   ]
  },
  {
   "cell_type": "code",
   "execution_count": 144,
   "metadata": {
    "colab": {
     "base_uri": "https://localhost:8080/",
     "height": 206
    },
    "id": "EDCq6Ad6F_io",
    "outputId": "52a70776-48a4-4de0-ef2a-d726ae441bb2"
   },
   "outputs": [
    {
     "data": {
      "text/html": [
       "\n",
       "  <div id=\"df-5869a130-078b-4da0-8196-cded2a76561b\">\n",
       "    <div class=\"colab-df-container\">\n",
       "      <div>\n",
       "<style scoped>\n",
       "    .dataframe tbody tr th:only-of-type {\n",
       "        vertical-align: middle;\n",
       "    }\n",
       "\n",
       "    .dataframe tbody tr th {\n",
       "        vertical-align: top;\n",
       "    }\n",
       "\n",
       "    .dataframe thead th {\n",
       "        text-align: right;\n",
       "    }\n",
       "</style>\n",
       "<table border=\"1\" class=\"dataframe\">\n",
       "  <thead>\n",
       "    <tr style=\"text-align: right;\">\n",
       "      <th></th>\n",
       "      <th>Diagnosis</th>\n",
       "      <th>Age</th>\n",
       "      <th>Gender</th>\n",
       "      <th>PainType</th>\n",
       "      <th>BloodPres</th>\n",
       "      <th>Chol</th>\n",
       "      <th>FBSugar</th>\n",
       "      <th>RestECG</th>\n",
       "      <th>MaxHeartRate</th>\n",
       "      <th>ExAngina</th>\n",
       "      <th>STPeakSlope</th>\n",
       "    </tr>\n",
       "  </thead>\n",
       "  <tbody>\n",
       "    <tr>\n",
       "      <th>0</th>\n",
       "      <td>0</td>\n",
       "      <td>63</td>\n",
       "      <td>1</td>\n",
       "      <td>Typical Angina</td>\n",
       "      <td>145</td>\n",
       "      <td>233</td>\n",
       "      <td>1</td>\n",
       "      <td>1</td>\n",
       "      <td>150</td>\n",
       "      <td>0</td>\n",
       "      <td>downsloping</td>\n",
       "    </tr>\n",
       "    <tr>\n",
       "      <th>1</th>\n",
       "      <td>1</td>\n",
       "      <td>67</td>\n",
       "      <td>1</td>\n",
       "      <td>asymptomatic</td>\n",
       "      <td>160</td>\n",
       "      <td>286</td>\n",
       "      <td>0</td>\n",
       "      <td>1</td>\n",
       "      <td>108</td>\n",
       "      <td>1</td>\n",
       "      <td>flat</td>\n",
       "    </tr>\n",
       "    <tr>\n",
       "      <th>2</th>\n",
       "      <td>1</td>\n",
       "      <td>67</td>\n",
       "      <td>1</td>\n",
       "      <td>asymptomatic</td>\n",
       "      <td>120</td>\n",
       "      <td>229</td>\n",
       "      <td>0</td>\n",
       "      <td>1</td>\n",
       "      <td>129</td>\n",
       "      <td>1</td>\n",
       "      <td>flat</td>\n",
       "    </tr>\n",
       "    <tr>\n",
       "      <th>3</th>\n",
       "      <td>0</td>\n",
       "      <td>37</td>\n",
       "      <td>1</td>\n",
       "      <td>non\u0002anginal pain</td>\n",
       "      <td>130</td>\n",
       "      <td>250</td>\n",
       "      <td>0</td>\n",
       "      <td>0</td>\n",
       "      <td>187</td>\n",
       "      <td>0</td>\n",
       "      <td>downsloping</td>\n",
       "    </tr>\n",
       "    <tr>\n",
       "      <th>4</th>\n",
       "      <td>0</td>\n",
       "      <td>41</td>\n",
       "      <td>0</td>\n",
       "      <td>atypical angina</td>\n",
       "      <td>130</td>\n",
       "      <td>204</td>\n",
       "      <td>0</td>\n",
       "      <td>1</td>\n",
       "      <td>172</td>\n",
       "      <td>0</td>\n",
       "      <td>upsloping</td>\n",
       "    </tr>\n",
       "  </tbody>\n",
       "</table>\n",
       "</div>\n",
       "      <button class=\"colab-df-convert\" onclick=\"convertToInteractive('df-5869a130-078b-4da0-8196-cded2a76561b')\"\n",
       "              title=\"Convert this dataframe to an interactive table.\"\n",
       "              style=\"display:none;\">\n",
       "        \n",
       "  <svg xmlns=\"http://www.w3.org/2000/svg\" height=\"24px\"viewBox=\"0 0 24 24\"\n",
       "       width=\"24px\">\n",
       "    <path d=\"M0 0h24v24H0V0z\" fill=\"none\"/>\n",
       "    <path d=\"M18.56 5.44l.94 2.06.94-2.06 2.06-.94-2.06-.94-.94-2.06-.94 2.06-2.06.94zm-11 1L8.5 8.5l.94-2.06 2.06-.94-2.06-.94L8.5 2.5l-.94 2.06-2.06.94zm10 10l.94 2.06.94-2.06 2.06-.94-2.06-.94-.94-2.06-.94 2.06-2.06.94z\"/><path d=\"M17.41 7.96l-1.37-1.37c-.4-.4-.92-.59-1.43-.59-.52 0-1.04.2-1.43.59L10.3 9.45l-7.72 7.72c-.78.78-.78 2.05 0 2.83L4 21.41c.39.39.9.59 1.41.59.51 0 1.02-.2 1.41-.59l7.78-7.78 2.81-2.81c.8-.78.8-2.07 0-2.86zM5.41 20L4 18.59l7.72-7.72 1.47 1.35L5.41 20z\"/>\n",
       "  </svg>\n",
       "      </button>\n",
       "      \n",
       "  <style>\n",
       "    .colab-df-container {\n",
       "      display:flex;\n",
       "      flex-wrap:wrap;\n",
       "      gap: 12px;\n",
       "    }\n",
       "\n",
       "    .colab-df-convert {\n",
       "      background-color: #E8F0FE;\n",
       "      border: none;\n",
       "      border-radius: 50%;\n",
       "      cursor: pointer;\n",
       "      display: none;\n",
       "      fill: #1967D2;\n",
       "      height: 32px;\n",
       "      padding: 0 0 0 0;\n",
       "      width: 32px;\n",
       "    }\n",
       "\n",
       "    .colab-df-convert:hover {\n",
       "      background-color: #E2EBFA;\n",
       "      box-shadow: 0px 1px 2px rgba(60, 64, 67, 0.3), 0px 1px 3px 1px rgba(60, 64, 67, 0.15);\n",
       "      fill: #174EA6;\n",
       "    }\n",
       "\n",
       "    [theme=dark] .colab-df-convert {\n",
       "      background-color: #3B4455;\n",
       "      fill: #D2E3FC;\n",
       "    }\n",
       "\n",
       "    [theme=dark] .colab-df-convert:hover {\n",
       "      background-color: #434B5C;\n",
       "      box-shadow: 0px 1px 3px 1px rgba(0, 0, 0, 0.15);\n",
       "      filter: drop-shadow(0px 1px 2px rgba(0, 0, 0, 0.3));\n",
       "      fill: #FFFFFF;\n",
       "    }\n",
       "  </style>\n",
       "\n",
       "      <script>\n",
       "        const buttonEl =\n",
       "          document.querySelector('#df-5869a130-078b-4da0-8196-cded2a76561b button.colab-df-convert');\n",
       "        buttonEl.style.display =\n",
       "          google.colab.kernel.accessAllowed ? 'block' : 'none';\n",
       "\n",
       "        async function convertToInteractive(key) {\n",
       "          const element = document.querySelector('#df-5869a130-078b-4da0-8196-cded2a76561b');\n",
       "          const dataTable =\n",
       "            await google.colab.kernel.invokeFunction('convertToInteractive',\n",
       "                                                     [key], {});\n",
       "          if (!dataTable) return;\n",
       "\n",
       "          const docLinkHtml = 'Like what you see? Visit the ' +\n",
       "            '<a target=\"_blank\" href=https://colab.research.google.com/notebooks/data_table.ipynb>data table notebook</a>'\n",
       "            + ' to learn more about interactive tables.';\n",
       "          element.innerHTML = '';\n",
       "          dataTable['output_type'] = 'display_data';\n",
       "          await google.colab.output.renderOutput(dataTable, element);\n",
       "          const docLink = document.createElement('div');\n",
       "          docLink.innerHTML = docLinkHtml;\n",
       "          element.appendChild(docLink);\n",
       "        }\n",
       "      </script>\n",
       "    </div>\n",
       "  </div>\n",
       "  "
      ],
      "text/plain": [
       "   Diagnosis  Age  Gender          PainType  BloodPres  Chol  FBSugar  \\\n",
       "0          0   63       1    Typical Angina        145   233        1   \n",
       "1          1   67       1      asymptomatic        160   286        0   \n",
       "2          1   67       1      asymptomatic        120   229        0   \n",
       "3          0   37       1  non\u0002anginal pain        130   250        0   \n",
       "4          0   41       0   atypical angina        130   204        0   \n",
       "\n",
       "   RestECG  MaxHeartRate  ExAngina  STPeakSlope  \n",
       "0        1           150         0  downsloping  \n",
       "1        1           108         1         flat  \n",
       "2        1           129         1         flat  \n",
       "3        0           187         0  downsloping  \n",
       "4        1           172         0    upsloping  "
      ]
     },
     "execution_count": 144,
     "metadata": {},
     "output_type": "execute_result"
    }
   ],
   "source": [
    "df['RestECG'] = df['RestECG'].replace(2,1)\n",
    "df = df.replace({'Diagnosis' : { 2 : 1, 3 : 1, 4 : 1 }})\n",
    "df.head()"
   ]
  },
  {
   "cell_type": "markdown",
   "metadata": {
    "id": "Mchqlj2mdCbc"
   },
   "source": [
    "### EDA "
   ]
  },
  {
   "cell_type": "markdown",
   "metadata": {
    "id": "WyjuAg5JlNvq"
   },
   "source": [
    "## 1.Univariate Analysis"
   ]
  },
  {
   "cell_type": "markdown",
   "metadata": {
    "id": "QsfJcfOQk58m"
   },
   "source": [
    "#### 1.1 Check the count plot for each categorical column."
   ]
  },
  {
   "cell_type": "code",
   "execution_count": 128,
   "metadata": {
    "colab": {
     "base_uri": "https://localhost:8080/"
    },
    "id": "qe_DypExek1y",
    "outputId": "e39eafcd-af1a-466d-ebd2-6c380a4ca15f"
   },
   "outputs": [
    {
     "data": {
      "text/plain": [
       "['Diagnosis',\n",
       " 'Gender',\n",
       " 'PainType',\n",
       " 'FBSugar',\n",
       " 'RestECG',\n",
       " 'ExAngina',\n",
       " 'STPeakSlope']"
      ]
     },
     "execution_count": 128,
     "metadata": {},
     "output_type": "execute_result"
    }
   ],
   "source": [
    "cat_col = df[['Diagnosis','Gender','PainType','FBSugar','RestECG','ExAngina','STPeakSlope']].columns.to_list()\n",
    "cat_col"
   ]
  },
  {
   "cell_type": "code",
   "execution_count": 145,
   "metadata": {
    "colab": {
     "base_uri": "https://localhost:8080/",
     "height": 873
    },
    "id": "rtqGldtpfqPp",
    "outputId": "944436e6-c821-4fc7-995e-77cec580b7f3"
   },
   "outputs": [
    {
     "data": {
      "image/png": "[encoded data removed]",
      "text/plain": [
       "<Figure size 1080x864 with 7 Axes>"
      ]
     },
     "metadata": {
      "needs_background": "light"
     },
     "output_type": "display_data"
    }
   ],
   "source": [
    "plt.figure(figsize=(15, 12))\n",
    "for i, j in enumerate(cat_col):\n",
    "    plt.subplot(3, 3, i + 1)\n",
    "    sns.countplot(df[j])\n",
    "    plt.xticks(rotation=90)\n",
    "    plt.tight_layout()\n",
    "    plt.title(j)\n",
    "\n",
    "plt.show()"
   ]
  },
  {
   "cell_type": "code",
   "execution_count": 146,
   "metadata": {
    "colab": {
     "base_uri": "https://localhost:8080/"
    },
    "id": "1yoa7UZ8dpdf",
    "outputId": "7f180ccc-c872-4ea2-d34c-8c55d9ee1d89"
   },
   "outputs": [
    {
     "name": "stdout",
     "output_type": "stream",
     "text": [
      "0    0.541254\n",
      "1    0.458746\n",
      "Name: Diagnosis, dtype: float64\n",
      "--------------------------------------------------\n",
      "1    0.679868\n",
      "0    0.320132\n",
      "Name: Gender, dtype: float64\n",
      "--------------------------------------------------\n",
      "asymptomatic        0.475248\n",
      "non\u0002anginal pain    0.283828\n",
      "atypical angina     0.165017\n",
      "Typical Angina      0.075908\n",
      "Name: PainType, dtype: float64\n",
      "--------------------------------------------------\n",
      "0    0.851485\n",
      "1    0.148515\n",
      "Name: FBSugar, dtype: float64\n",
      "--------------------------------------------------\n",
      "1    0.50165\n",
      "0    0.49835\n",
      "Name: RestECG, dtype: float64\n",
      "--------------------------------------------------\n",
      "0    0.673267\n",
      "1    0.326733\n",
      "Name: ExAngina, dtype: float64\n",
      "--------------------------------------------------\n",
      "upsloping      0.468647\n",
      "flat           0.462046\n",
      "downsloping    0.069307\n",
      "Name: STPeakSlope, dtype: float64\n",
      "--------------------------------------------------\n"
     ]
    }
   ],
   "source": [
    "for i in cat_col:\n",
    "  print(df[i].value_counts(normalize = True))\n",
    "  print(\"-\" * 50)"
   ]
  },
  {
   "cell_type": "markdown",
   "metadata": {
    "id": "EcBSa1M0dgrG"
   },
   "source": [
    "**Observations**\n",
    "* Over half of the people got the heart disease.\n",
    "* Nearly 70% of people in this dataset are male.\n",
    "* asymptomatic is the most common pain type which over47%, followed by non\u0002anginal pain.\n",
    "* And over 85% people fasting blood sugar > 120 mg/dl.\n",
    "* Half of Resting echocardiogram are normal and half are abnormal.\n",
    "* Over 2/3 of people induced angina present.\n",
    "* Upsloping and flat are the two most common slope of peak exercise which around 46%, and downsloping only has 6.9% of people."
   ]
  },
  {
   "cell_type": "markdown",
   "metadata": {
    "id": "J74vt6t2k_th"
   },
   "source": [
    "#### 1.2 Check the histogram for each continuous column"
   ]
  },
  {
   "cell_type": "code",
   "execution_count": 147,
   "metadata": {
    "colab": {
     "base_uri": "https://localhost:8080/"
    },
    "id": "ByD2-LefkgYm",
    "outputId": "0d445c7b-9c25-4bf4-8243-9a868407509d"
   },
   "outputs": [
    {
     "data": {
      "text/plain": [
       "['Age', 'BloodPres', 'Chol', 'MaxHeartRate']"
      ]
     },
     "execution_count": 147,
     "metadata": {},
     "output_type": "execute_result"
    }
   ],
   "source": [
    "distribution_col = df[['Age','BloodPres','Chol','MaxHeartRate']].columns.to_list()\n",
    "distribution_col"
   ]
  },
  {
   "cell_type": "code",
   "execution_count": 148,
   "metadata": {
    "colab": {
     "base_uri": "https://localhost:8080/",
     "height": 873
    },
    "id": "kcIykak_lweJ",
    "outputId": "7f0268b3-33d3-46db-9360-8da50d7127bd"
   },
   "outputs": [
    {
     "data": {
      "image/png": "[encoded data removed]",
      "text/plain": [
       "<Figure size 1080x864 with 4 Axes>"
      ]
     },
     "metadata": {
      "needs_background": "light"
     },
     "output_type": "display_data"
    }
   ],
   "source": [
    "plt.figure(figsize=(15, 12))\n",
    "for i, j in enumerate(distribution_col):\n",
    "    plt.subplot(2, 2, i + 1)\n",
    "    sns.histplot(df[j],kde=True)\n",
    "    plt.xticks(rotation=90)\n",
    "    plt.tight_layout()\n",
    "    plt.title(j)\n",
    "\n",
    "plt.show()"
   ]
  },
  {
   "cell_type": "markdown",
   "metadata": {
    "id": "Fub75jr0or5H"
   },
   "source": [
    "**Observations**\n",
    "* Most people are around 55 years old. And the Age distribution is almost normal distribution.\n",
    "* Slight right skew of Blood pressure distribution, and most people's blood pressure are around 135.\n",
    "* Right skew of Chol, most data locate around 240.\n",
    "* Slight left skew of MaxHearRate, most data locate around 160."
   ]
  },
  {
   "cell_type": "markdown",
   "metadata": {
    "id": "47IJm2zzrpQv"
   },
   "source": [
    "#### 1.3 Check Outlier for each continuous data type column."
   ]
  },
  {
   "cell_type": "code",
   "execution_count": 149,
   "metadata": {
    "colab": {
     "base_uri": "https://localhost:8080/",
     "height": 873
    },
    "id": "fc6vxfzLl3zL",
    "outputId": "d05358ec-c57f-48fb-a0c3-b648596fe7ae"
   },
   "outputs": [
    {
     "data": {
      "image/png": "[encoded data removed]",
      "text/plain": [
       "<Figure size 1080x864 with 4 Axes>"
      ]
     },
     "metadata": {
      "needs_background": "light"
     },
     "output_type": "display_data"
    }
   ],
   "source": [
    "plt.figure(figsize=(15, 12))\n",
    "\n",
    "for i, j in enumerate(distribution_col):\n",
    "    plt.subplot(2, 2, i + 1)\n",
    "    plt.boxplot(df[j], whis=1.5)\n",
    "    plt.tight_layout()\n",
    "    plt.title(j)"
   ]
  },
  {
   "cell_type": "markdown",
   "metadata": {
    "id": "bkpnvu1ztd18"
   },
   "source": [
    "* There are several outliers in the BloodPress and MaxHeartRate column, but we are going to keep these outliers, because all of them are real data, and based on the histogram above, they are not the matter."
   ]
  },
  {
   "cell_type": "markdown",
   "metadata": {
    "id": "IYcN3F2nvQnA"
   },
   "source": [
    "## 2.Bivariate Analysis"
   ]
  },
  {
   "cell_type": "markdown",
   "metadata": {
    "id": "m2rrGauVwRsR"
   },
   "source": [
    "#### 2.1 Stack bar to show the relationship between Diagnosis and different categorical variables."
   ]
  },
  {
   "cell_type": "code",
   "execution_count": 150,
   "metadata": {
    "id": "xySkv-4dsAS7"
   },
   "outputs": [],
   "source": [
    "def Mstack_bar(data,b,a):\n",
    "    sorter = data[a].value_counts().index[-1]\n",
    "    tabl = pd.crosstab(data[b],data[a], normalize='index').sort_values(\n",
    "       by=sorter,ascending=False)\n",
    "    tabl.plot(rot=0,kind=\"bar\", stacked=True,color=['steelblue', 'red'],figsize = (7,5))\n",
    "    plt.legend(\n",
    "        loc=\"lower left\", frameon=False,\n",
    "    )\n",
    "    plt.legend(loc=\"upper left\", bbox_to_anchor=(1, 1))\n",
    "    plt.figure(figsize=(10, 5))\n",
    "    plt.show()"
   ]
  },
  {
   "cell_type": "code",
   "execution_count": 151,
   "metadata": {
    "colab": {
     "base_uri": "https://localhost:8080/",
     "height": 1000
    },
    "id": "njqAnXzzuE0S",
    "outputId": "7f6c128f-0730-4823-dbfa-fcee7c0b31fe"
   },
   "outputs": [
    {
     "data": {
      "image/png": "[encoded data removed]",
      "text/plain": [
       "<Figure size 504x360 with 1 Axes>"
      ]
     },
     "metadata": {
      "needs_background": "light"
     },
     "output_type": "display_data"
    },
    {
     "data": {
      "text/plain": [
       "<Figure size 720x360 with 0 Axes>"
      ]
     },
     "metadata": {},
     "output_type": "display_data"
    },
    {
     "data": {
      "image/png": "[encoded data removed]",
      "text/plain": [
       "<Figure size 504x360 with 1 Axes>"
      ]
     },
     "metadata": {
      "needs_background": "light"
     },
     "output_type": "display_data"
    },
    {
     "data": {
      "text/plain": [
       "<Figure size 720x360 with 0 Axes>"
      ]
     },
     "metadata": {},
     "output_type": "display_data"
    },
    {
     "data": {
      "image/png": "[encoded data removed]",
      "text/plain": [
       "<Figure size 504x360 with 1 Axes>"
      ]
     },
     "metadata": {
      "needs_background": "light"
     },
     "output_type": "display_data"
    },
    {
     "data": {
      "text/plain": [
       "<Figure size 720x360 with 0 Axes>"
      ]
     },
     "metadata": {},
     "output_type": "display_data"
    },
    {
     "data": {
      "image/png": "[encoded data removed]",
      "text/plain": [
       "<Figure size 504x360 with 1 Axes>"
      ]
     },
     "metadata": {
      "needs_background": "light"
     },
     "output_type": "display_data"
    },
    {
     "data": {
      "text/plain": [
       "<Figure size 720x360 with 0 Axes>"
      ]
     },
     "metadata": {},
     "output_type": "display_data"
    },
    {
     "data": {
      "image/png": "[encoded data removed]",
      "text/plain": [
       "<Figure size 504x360 with 1 Axes>"
      ]
     },
     "metadata": {
      "needs_background": "light"
     },
     "output_type": "display_data"
    },
    {
     "data": {
      "text/plain": [
       "<Figure size 720x360 with 0 Axes>"
      ]
     },
     "metadata": {},
     "output_type": "display_data"
    },
    {
     "data": {
      "image/png": "[encoded data removed]",
      "text/plain": [
       "<Figure size 504x360 with 1 Axes>"
      ]
     },
     "metadata": {
      "needs_background": "light"
     },
     "output_type": "display_data"
    },
    {
     "data": {
      "text/plain": [
       "<Figure size 720x360 with 0 Axes>"
      ]
     },
     "metadata": {},
     "output_type": "display_data"
    }
   ],
   "source": [
    "stack_col = df[['Gender','PainType','FBSugar','RestECG','ExAngina','STPeakSlope']].columns.to_list()\n",
    "for i in stack_col:\n",
    "  Mstack_bar(df,i,'Diagnosis')\n",
    "  "
   ]
  },
  {
   "cell_type": "markdown",
   "metadata": {
    "id": "I9dJHuZpwv2l"
   },
   "source": [
    "#### 2.2 Heatmap to show the correlation between different numerical variables."
   ]
  },
  {
   "cell_type": "code",
   "execution_count": 152,
   "metadata": {
    "id": "eJaSjm21w5Au"
   },
   "outputs": [],
   "source": [
    "col = df.select_dtypes(include=np.number).columns.tolist()"
   ]
  },
  {
   "cell_type": "code",
   "execution_count": 153,
   "metadata": {
    "colab": {
     "base_uri": "https://localhost:8080/",
     "height": 704
    },
    "id": "Ye-Tqi91wd6i",
    "outputId": "1c394a0d-f2d2-4496-a392-ed67acdfc243"
   },
   "outputs": [
    {
     "data": {
      "image/png": "[encoded data removed]",
      "text/plain": [
       "<Figure size 1080x864 with 2 Axes>"
      ]
     },
     "metadata": {
      "needs_background": "light"
     },
     "output_type": "display_data"
    }
   ],
   "source": [
    "plt.figure(figsize=(15, 12))\n",
    "\n",
    "sns.heatmap(\n",
    "    df[col].corr(), annot=True, vmin=-1, vmax=1, fmt=\".2f\", cmap=\"coolwarm\"\n",
    ");"
   ]
  },
  {
   "cell_type": "markdown",
   "metadata": {
    "id": "D0l4F0D3yeTR"
   },
   "source": [
    "## Data Processing\n",
    "**After we did EDA before, we need to do the data processing more profoundly.**\n",
    "* We decided to choose all the columns except STPeakSlope column, this column has three different variables, but one of them: downsloping only has 6% overall, we don't want to overfit our model due to the sparse variable in this column, and due to the heart disease domain knowledge, this attribute is not as important as others in the dataset.\n",
    "* And in this section, we are going to prepare our data to fit the model, it include data split into train and test dataset etc,.\n"
   ]
  },
  {
   "cell_type": "code",
   "execution_count": 154,
   "metadata": {
    "colab": {
     "base_uri": "https://localhost:8080/",
     "height": 206
    },
    "id": "cZdFyv8Cwd_P",
    "outputId": "d4e88d3d-29d7-43d6-c3c0-19193d091087"
   },
   "outputs": [
    {
     "data": {
      "text/html": [
       "\n",
       "  <div id=\"df-d9556b20-013e-45d3-b4d4-5fe965856ee8\">\n",
       "    <div class=\"colab-df-container\">\n",
       "      <div>\n",
       "<style scoped>\n",
       "    .dataframe tbody tr th:only-of-type {\n",
       "        vertical-align: middle;\n",
       "    }\n",
       "\n",
       "    .dataframe tbody tr th {\n",
       "        vertical-align: top;\n",
       "    }\n",
       "\n",
       "    .dataframe thead th {\n",
       "        text-align: right;\n",
       "    }\n",
       "</style>\n",
       "<table border=\"1\" class=\"dataframe\">\n",
       "  <thead>\n",
       "    <tr style=\"text-align: right;\">\n",
       "      <th></th>\n",
       "      <th>Diagnosis</th>\n",
       "      <th>Age</th>\n",
       "      <th>Gender</th>\n",
       "      <th>PainType</th>\n",
       "      <th>BloodPres</th>\n",
       "      <th>Chol</th>\n",
       "      <th>FBSugar</th>\n",
       "      <th>RestECG</th>\n",
       "      <th>MaxHeartRate</th>\n",
       "      <th>ExAngina</th>\n",
       "    </tr>\n",
       "  </thead>\n",
       "  <tbody>\n",
       "    <tr>\n",
       "      <th>0</th>\n",
       "      <td>0</td>\n",
       "      <td>63</td>\n",
       "      <td>1</td>\n",
       "      <td>Typical Angina</td>\n",
       "      <td>145</td>\n",
       "      <td>233</td>\n",
       "      <td>1</td>\n",
       "      <td>1</td>\n",
       "      <td>150</td>\n",
       "      <td>0</td>\n",
       "    </tr>\n",
       "    <tr>\n",
       "      <th>1</th>\n",
       "      <td>1</td>\n",
       "      <td>67</td>\n",
       "      <td>1</td>\n",
       "      <td>asymptomatic</td>\n",
       "      <td>160</td>\n",
       "      <td>286</td>\n",
       "      <td>0</td>\n",
       "      <td>1</td>\n",
       "      <td>108</td>\n",
       "      <td>1</td>\n",
       "    </tr>\n",
       "    <tr>\n",
       "      <th>2</th>\n",
       "      <td>1</td>\n",
       "      <td>67</td>\n",
       "      <td>1</td>\n",
       "      <td>asymptomatic</td>\n",
       "      <td>120</td>\n",
       "      <td>229</td>\n",
       "      <td>0</td>\n",
       "      <td>1</td>\n",
       "      <td>129</td>\n",
       "      <td>1</td>\n",
       "    </tr>\n",
       "    <tr>\n",
       "      <th>3</th>\n",
       "      <td>0</td>\n",
       "      <td>37</td>\n",
       "      <td>1</td>\n",
       "      <td>non\u0002anginal pain</td>\n",
       "      <td>130</td>\n",
       "      <td>250</td>\n",
       "      <td>0</td>\n",
       "      <td>0</td>\n",
       "      <td>187</td>\n",
       "      <td>0</td>\n",
       "    </tr>\n",
       "    <tr>\n",
       "      <th>4</th>\n",
       "      <td>0</td>\n",
       "      <td>41</td>\n",
       "      <td>0</td>\n",
       "      <td>atypical angina</td>\n",
       "      <td>130</td>\n",
       "      <td>204</td>\n",
       "      <td>0</td>\n",
       "      <td>1</td>\n",
       "      <td>172</td>\n",
       "      <td>0</td>\n",
       "    </tr>\n",
       "  </tbody>\n",
       "</table>\n",
       "</div>\n",
       "      <button class=\"colab-df-convert\" onclick=\"convertToInteractive('df-d9556b20-013e-45d3-b4d4-5fe965856ee8')\"\n",
       "              title=\"Convert this dataframe to an interactive table.\"\n",
       "              style=\"display:none;\">\n",
       "        \n",
       "  <svg xmlns=\"http://www.w3.org/2000/svg\" height=\"24px\"viewBox=\"0 0 24 24\"\n",
       "       width=\"24px\">\n",
       "    <path d=\"M0 0h24v24H0V0z\" fill=\"none\"/>\n",
       "    <path d=\"M18.56 5.44l.94 2.06.94-2.06 2.06-.94-2.06-.94-.94-2.06-.94 2.06-2.06.94zm-11 1L8.5 8.5l.94-2.06 2.06-.94-2.06-.94L8.5 2.5l-.94 2.06-2.06.94zm10 10l.94 2.06.94-2.06 2.06-.94-2.06-.94-.94-2.06-.94 2.06-2.06.94z\"/><path d=\"M17.41 7.96l-1.37-1.37c-.4-.4-.92-.59-1.43-.59-.52 0-1.04.2-1.43.59L10.3 9.45l-7.72 7.72c-.78.78-.78 2.05 0 2.83L4 21.41c.39.39.9.59 1.41.59.51 0 1.02-.2 1.41-.59l7.78-7.78 2.81-2.81c.8-.78.8-2.07 0-2.86zM5.41 20L4 18.59l7.72-7.72 1.47 1.35L5.41 20z\"/>\n",
       "  </svg>\n",
       "      </button>\n",
       "      \n",
       "  <style>\n",
       "    .colab-df-container {\n",
       "      display:flex;\n",
       "      flex-wrap:wrap;\n",
       "      gap: 12px;\n",
       "    }\n",
       "\n",
       "    .colab-df-convert {\n",
       "      background-color: #E8F0FE;\n",
       "      border: none;\n",
       "      border-radius: 50%;\n",
       "      cursor: pointer;\n",
       "      display: none;\n",
       "      fill: #1967D2;\n",
       "      height: 32px;\n",
       "      padding: 0 0 0 0;\n",
       "      width: 32px;\n",
       "    }\n",
       "\n",
       "    .colab-df-convert:hover {\n",
       "      background-color: #E2EBFA;\n",
       "      box-shadow: 0px 1px 2px rgba(60, 64, 67, 0.3), 0px 1px 3px 1px rgba(60, 64, 67, 0.15);\n",
       "      fill: #174EA6;\n",
       "    }\n",
       "\n",
       "    [theme=dark] .colab-df-convert {\n",
       "      background-color: #3B4455;\n",
       "      fill: #D2E3FC;\n",
       "    }\n",
       "\n",
       "    [theme=dark] .colab-df-convert:hover {\n",
       "      background-color: #434B5C;\n",
       "      box-shadow: 0px 1px 3px 1px rgba(0, 0, 0, 0.15);\n",
       "      filter: drop-shadow(0px 1px 2px rgba(0, 0, 0, 0.3));\n",
       "      fill: #FFFFFF;\n",
       "    }\n",
       "  </style>\n",
       "\n",
       "      <script>\n",
       "        const buttonEl =\n",
       "          document.querySelector('#df-d9556b20-013e-45d3-b4d4-5fe965856ee8 button.colab-df-convert');\n",
       "        buttonEl.style.display =\n",
       "          google.colab.kernel.accessAllowed ? 'block' : 'none';\n",
       "\n",
       "        async function convertToInteractive(key) {\n",
       "          const element = document.querySelector('#df-d9556b20-013e-45d3-b4d4-5fe965856ee8');\n",
       "          const dataTable =\n",
       "            await google.colab.kernel.invokeFunction('convertToInteractive',\n",
       "                                                     [key], {});\n",
       "          if (!dataTable) return;\n",
       "\n",
       "          const docLinkHtml = 'Like what you see? Visit the ' +\n",
       "            '<a target=\"_blank\" href=https://colab.research.google.com/notebooks/data_table.ipynb>data table notebook</a>'\n",
       "            + ' to learn more about interactive tables.';\n",
       "          element.innerHTML = '';\n",
       "          dataTable['output_type'] = 'display_data';\n",
       "          await google.colab.output.renderOutput(dataTable, element);\n",
       "          const docLink = document.createElement('div');\n",
       "          docLink.innerHTML = docLinkHtml;\n",
       "          element.appendChild(docLink);\n",
       "        }\n",
       "      </script>\n",
       "    </div>\n",
       "  </div>\n",
       "  "
      ],
      "text/plain": [
       "   Diagnosis  Age  Gender          PainType  BloodPres  Chol  FBSugar  \\\n",
       "0          0   63       1    Typical Angina        145   233        1   \n",
       "1          1   67       1      asymptomatic        160   286        0   \n",
       "2          1   67       1      asymptomatic        120   229        0   \n",
       "3          0   37       1  non\u0002anginal pain        130   250        0   \n",
       "4          0   41       0   atypical angina        130   204        0   \n",
       "\n",
       "   RestECG  MaxHeartRate  ExAngina  \n",
       "0        1           150         0  \n",
       "1        1           108         1  \n",
       "2        1           129         1  \n",
       "3        0           187         0  \n",
       "4        1           172         0  "
      ]
     },
     "execution_count": 154,
     "metadata": {},
     "output_type": "execute_result"
    }
   ],
   "source": [
    "df_final = df.iloc[:,0:10]\n",
    "df_final.head()"
   ]
  },
  {
   "cell_type": "markdown",
   "metadata": {
    "id": "XPJF937k0qXS"
   },
   "source": [
    "#### Preparing data for modeling\n",
    "* Get dummy variable for categorical data.\n",
    "* We will split the train and test dataset with the ratio of 8:2, and we also want different values (0 or 1) in the target variable('Diagnosis) that has the same ratio in both the train and test dataset."
   ]
  },
  {
   "cell_type": "code",
   "execution_count": 155,
   "metadata": {
    "colab": {
     "base_uri": "https://localhost:8080/",
     "height": 485
    },
    "id": "0xU4MjfBN69Z",
    "outputId": "8316efdf-1f21-4c17-a8eb-4d6dca813db1"
   },
   "outputs": [
    {
     "data": {
      "text/html": [
       "\n",
       "  <div id=\"df-35e0b561-6cbe-493b-86d5-471b5e37a0d8\">\n",
       "    <div class=\"colab-df-container\">\n",
       "      <div>\n",
       "<style scoped>\n",
       "    .dataframe tbody tr th:only-of-type {\n",
       "        vertical-align: middle;\n",
       "    }\n",
       "\n",
       "    .dataframe tbody tr th {\n",
       "        vertical-align: top;\n",
       "    }\n",
       "\n",
       "    .dataframe thead th {\n",
       "        text-align: right;\n",
       "    }\n",
       "</style>\n",
       "<table border=\"1\" class=\"dataframe\">\n",
       "  <thead>\n",
       "    <tr style=\"text-align: right;\">\n",
       "      <th></th>\n",
       "      <th>Diagnosis</th>\n",
       "      <th>Age</th>\n",
       "      <th>Gender</th>\n",
       "      <th>BloodPres</th>\n",
       "      <th>Chol</th>\n",
       "      <th>FBSugar</th>\n",
       "      <th>RestECG</th>\n",
       "      <th>MaxHeartRate</th>\n",
       "      <th>ExAngina</th>\n",
       "      <th>PainType_asymptomatic</th>\n",
       "      <th>PainType_atypical angina</th>\n",
       "      <th>PainType_non\u0002anginal pain</th>\n",
       "    </tr>\n",
       "  </thead>\n",
       "  <tbody>\n",
       "    <tr>\n",
       "      <th>0</th>\n",
       "      <td>0</td>\n",
       "      <td>63</td>\n",
       "      <td>1</td>\n",
       "      <td>145</td>\n",
       "      <td>233</td>\n",
       "      <td>1</td>\n",
       "      <td>1</td>\n",
       "      <td>150</td>\n",
       "      <td>0</td>\n",
       "      <td>0</td>\n",
       "      <td>0</td>\n",
       "      <td>0</td>\n",
       "    </tr>\n",
       "    <tr>\n",
       "      <th>1</th>\n",
       "      <td>1</td>\n",
       "      <td>67</td>\n",
       "      <td>1</td>\n",
       "      <td>160</td>\n",
       "      <td>286</td>\n",
       "      <td>0</td>\n",
       "      <td>1</td>\n",
       "      <td>108</td>\n",
       "      <td>1</td>\n",
       "      <td>1</td>\n",
       "      <td>0</td>\n",
       "      <td>0</td>\n",
       "    </tr>\n",
       "    <tr>\n",
       "      <th>2</th>\n",
       "      <td>1</td>\n",
       "      <td>67</td>\n",
       "      <td>1</td>\n",
       "      <td>120</td>\n",
       "      <td>229</td>\n",
       "      <td>0</td>\n",
       "      <td>1</td>\n",
       "      <td>129</td>\n",
       "      <td>1</td>\n",
       "      <td>1</td>\n",
       "      <td>0</td>\n",
       "      <td>0</td>\n",
       "    </tr>\n",
       "    <tr>\n",
       "      <th>3</th>\n",
       "      <td>0</td>\n",
       "      <td>37</td>\n",
       "      <td>1</td>\n",
       "      <td>130</td>\n",
       "      <td>250</td>\n",
       "      <td>0</td>\n",
       "      <td>0</td>\n",
       "      <td>187</td>\n",
       "      <td>0</td>\n",
       "      <td>0</td>\n",
       "      <td>0</td>\n",
       "      <td>1</td>\n",
       "    </tr>\n",
       "    <tr>\n",
       "      <th>4</th>\n",
       "      <td>0</td>\n",
       "      <td>41</td>\n",
       "      <td>0</td>\n",
       "      <td>130</td>\n",
       "      <td>204</td>\n",
       "      <td>0</td>\n",
       "      <td>1</td>\n",
       "      <td>172</td>\n",
       "      <td>0</td>\n",
       "      <td>0</td>\n",
       "      <td>1</td>\n",
       "      <td>0</td>\n",
       "    </tr>\n",
       "    <tr>\n",
       "      <th>...</th>\n",
       "      <td>...</td>\n",
       "      <td>...</td>\n",
       "      <td>...</td>\n",
       "      <td>...</td>\n",
       "      <td>...</td>\n",
       "      <td>...</td>\n",
       "      <td>...</td>\n",
       "      <td>...</td>\n",
       "      <td>...</td>\n",
       "      <td>...</td>\n",
       "      <td>...</td>\n",
       "      <td>...</td>\n",
       "    </tr>\n",
       "    <tr>\n",
       "      <th>298</th>\n",
       "      <td>1</td>\n",
       "      <td>45</td>\n",
       "      <td>1</td>\n",
       "      <td>110</td>\n",
       "      <td>264</td>\n",
       "      <td>0</td>\n",
       "      <td>0</td>\n",
       "      <td>132</td>\n",
       "      <td>0</td>\n",
       "      <td>0</td>\n",
       "      <td>0</td>\n",
       "      <td>0</td>\n",
       "    </tr>\n",
       "    <tr>\n",
       "      <th>299</th>\n",
       "      <td>1</td>\n",
       "      <td>68</td>\n",
       "      <td>1</td>\n",
       "      <td>144</td>\n",
       "      <td>193</td>\n",
       "      <td>1</td>\n",
       "      <td>0</td>\n",
       "      <td>141</td>\n",
       "      <td>0</td>\n",
       "      <td>1</td>\n",
       "      <td>0</td>\n",
       "      <td>0</td>\n",
       "    </tr>\n",
       "    <tr>\n",
       "      <th>300</th>\n",
       "      <td>1</td>\n",
       "      <td>57</td>\n",
       "      <td>1</td>\n",
       "      <td>130</td>\n",
       "      <td>131</td>\n",
       "      <td>0</td>\n",
       "      <td>0</td>\n",
       "      <td>115</td>\n",
       "      <td>1</td>\n",
       "      <td>1</td>\n",
       "      <td>0</td>\n",
       "      <td>0</td>\n",
       "    </tr>\n",
       "    <tr>\n",
       "      <th>301</th>\n",
       "      <td>1</td>\n",
       "      <td>57</td>\n",
       "      <td>0</td>\n",
       "      <td>130</td>\n",
       "      <td>236</td>\n",
       "      <td>0</td>\n",
       "      <td>1</td>\n",
       "      <td>174</td>\n",
       "      <td>0</td>\n",
       "      <td>0</td>\n",
       "      <td>1</td>\n",
       "      <td>0</td>\n",
       "    </tr>\n",
       "    <tr>\n",
       "      <th>302</th>\n",
       "      <td>0</td>\n",
       "      <td>38</td>\n",
       "      <td>1</td>\n",
       "      <td>138</td>\n",
       "      <td>175</td>\n",
       "      <td>0</td>\n",
       "      <td>0</td>\n",
       "      <td>173</td>\n",
       "      <td>0</td>\n",
       "      <td>0</td>\n",
       "      <td>0</td>\n",
       "      <td>1</td>\n",
       "    </tr>\n",
       "  </tbody>\n",
       "</table>\n",
       "<p>303 rows × 12 columns</p>\n",
       "</div>\n",
       "      <button class=\"colab-df-convert\" onclick=\"convertToInteractive('df-35e0b561-6cbe-493b-86d5-471b5e37a0d8')\"\n",
       "              title=\"Convert this dataframe to an interactive table.\"\n",
       "              style=\"display:none;\">\n",
       "        \n",
       "  <svg xmlns=\"http://www.w3.org/2000/svg\" height=\"24px\"viewBox=\"0 0 24 24\"\n",
       "       width=\"24px\">\n",
       "    <path d=\"M0 0h24v24H0V0z\" fill=\"none\"/>\n",
       "    <path d=\"M18.56 5.44l.94 2.06.94-2.06 2.06-.94-2.06-.94-.94-2.06-.94 2.06-2.06.94zm-11 1L8.5 8.5l.94-2.06 2.06-.94-2.06-.94L8.5 2.5l-.94 2.06-2.06.94zm10 10l.94 2.06.94-2.06 2.06-.94-2.06-.94-.94-2.06-.94 2.06-2.06.94z\"/><path d=\"M17.41 7.96l-1.37-1.37c-.4-.4-.92-.59-1.43-.59-.52 0-1.04.2-1.43.59L10.3 9.45l-7.72 7.72c-.78.78-.78 2.05 0 2.83L4 21.41c.39.39.9.59 1.41.59.51 0 1.02-.2 1.41-.59l7.78-7.78 2.81-2.81c.8-.78.8-2.07 0-2.86zM5.41 20L4 18.59l7.72-7.72 1.47 1.35L5.41 20z\"/>\n",
       "  </svg>\n",
       "      </button>\n",
       "      \n",
       "  <style>\n",
       "    .colab-df-container {\n",
       "      display:flex;\n",
       "      flex-wrap:wrap;\n",
       "      gap: 12px;\n",
       "    }\n",
       "\n",
       "    .colab-df-convert {\n",
       "      background-color: #E8F0FE;\n",
       "      border: none;\n",
       "      border-radius: 50%;\n",
       "      cursor: pointer;\n",
       "      display: none;\n",
       "      fill: #1967D2;\n",
       "      height: 32px;\n",
       "      padding: 0 0 0 0;\n",
       "      width: 32px;\n",
       "    }\n",
       "\n",
       "    .colab-df-convert:hover {\n",
       "      background-color: #E2EBFA;\n",
       "      box-shadow: 0px 1px 2px rgba(60, 64, 67, 0.3), 0px 1px 3px 1px rgba(60, 64, 67, 0.15);\n",
       "      fill: #174EA6;\n",
       "    }\n",
       "\n",
       "    [theme=dark] .colab-df-convert {\n",
       "      background-color: #3B4455;\n",
       "      fill: #D2E3FC;\n",
       "    }\n",
       "\n",
       "    [theme=dark] .colab-df-convert:hover {\n",
       "      background-color: #434B5C;\n",
       "      box-shadow: 0px 1px 3px 1px rgba(0, 0, 0, 0.15);\n",
       "      filter: drop-shadow(0px 1px 2px rgba(0, 0, 0, 0.3));\n",
       "      fill: #FFFFFF;\n",
       "    }\n",
       "  </style>\n",
       "\n",
       "      <script>\n",
       "        const buttonEl =\n",
       "          document.querySelector('#df-35e0b561-6cbe-493b-86d5-471b5e37a0d8 button.colab-df-convert');\n",
       "        buttonEl.style.display =\n",
       "          google.colab.kernel.accessAllowed ? 'block' : 'none';\n",
       "\n",
       "        async function convertToInteractive(key) {\n",
       "          const element = document.querySelector('#df-35e0b561-6cbe-493b-86d5-471b5e37a0d8');\n",
       "          const dataTable =\n",
       "            await google.colab.kernel.invokeFunction('convertToInteractive',\n",
       "                                                     [key], {});\n",
       "          if (!dataTable) return;\n",
       "\n",
       "          const docLinkHtml = 'Like what you see? Visit the ' +\n",
       "            '<a target=\"_blank\" href=https://colab.research.google.com/notebooks/data_table.ipynb>data table notebook</a>'\n",
       "            + ' to learn more about interactive tables.';\n",
       "          element.innerHTML = '';\n",
       "          dataTable['output_type'] = 'display_data';\n",
       "          await google.colab.output.renderOutput(dataTable, element);\n",
       "          const docLink = document.createElement('div');\n",
       "          docLink.innerHTML = docLinkHtml;\n",
       "          element.appendChild(docLink);\n",
       "        }\n",
       "      </script>\n",
       "    </div>\n",
       "  </div>\n",
       "  "
      ],
      "text/plain": [
       "     Diagnosis  Age  Gender  BloodPres  Chol  FBSugar  RestECG  MaxHeartRate  \\\n",
       "0            0   63       1        145   233        1        1           150   \n",
       "1            1   67       1        160   286        0        1           108   \n",
       "2            1   67       1        120   229        0        1           129   \n",
       "3            0   37       1        130   250        0        0           187   \n",
       "4            0   41       0        130   204        0        1           172   \n",
       "..         ...  ...     ...        ...   ...      ...      ...           ...   \n",
       "298          1   45       1        110   264        0        0           132   \n",
       "299          1   68       1        144   193        1        0           141   \n",
       "300          1   57       1        130   131        0        0           115   \n",
       "301          1   57       0        130   236        0        1           174   \n",
       "302          0   38       1        138   175        0        0           173   \n",
       "\n",
       "     ExAngina  PainType_asymptomatic  PainType_atypical angina  \\\n",
       "0           0                      0                         0   \n",
       "1           1                      1                         0   \n",
       "2           1                      1                         0   \n",
       "3           0                      0                         0   \n",
       "4           0                      0                         1   \n",
       "..        ...                    ...                       ...   \n",
       "298         0                      0                         0   \n",
       "299         0                      1                         0   \n",
       "300         1                      1                         0   \n",
       "301         0                      0                         1   \n",
       "302         0                      0                         0   \n",
       "\n",
       "     PainType_non\u0002anginal pain  \n",
       "0                            0  \n",
       "1                            0  \n",
       "2                            0  \n",
       "3                            1  \n",
       "4                            0  \n",
       "..                         ...  \n",
       "298                          0  \n",
       "299                          0  \n",
       "300                          0  \n",
       "301                          0  \n",
       "302                          1  \n",
       "\n",
       "[303 rows x 12 columns]"
      ]
     },
     "execution_count": 155,
     "metadata": {},
     "output_type": "execute_result"
    }
   ],
   "source": [
    "final = pd.get_dummies(df_final, drop_first=True)\n",
    "final"
   ]
  },
  {
   "cell_type": "code",
   "execution_count": 156,
   "metadata": {
    "id": "NHmxs7UTweBk"
   },
   "outputs": [],
   "source": [
    "X = final.drop([\"Diagnosis\"], axis=1)\n",
    "Y = final[\"Diagnosis\"]\n",
    "\n",
    "X_train, X_test, y_train, y_test = train_test_split(\n",
    "    X, Y, test_size=0.20, random_state=1, stratify=Y\n",
    ")"
   ]
  },
  {
   "cell_type": "code",
   "execution_count": 157,
   "metadata": {
    "colab": {
     "base_uri": "https://localhost:8080/"
    },
    "id": "igAab7t8weD6",
    "outputId": "3680dc05-dbd5-4a7a-8ac5-c9c33c4acd3a"
   },
   "outputs": [
    {
     "name": "stdout",
     "output_type": "stream",
     "text": [
      "Shape of Training set :  (242, 11)\n",
      "Shape of test set :  (61, 11)\n",
      "Percentage of classes in training set:\n",
      "0    0.541322\n",
      "1    0.458678\n",
      "Name: Diagnosis, dtype: float64\n",
      "Percentage of classes in test set:\n",
      "0    0.540984\n",
      "1    0.459016\n",
      "Name: Diagnosis, dtype: float64\n"
     ]
    }
   ],
   "source": [
    "print(\"Shape of Training set : \", X_train.shape)\n",
    "print(\"Shape of test set : \", X_test.shape)\n",
    "print(\"Percentage of classes in training set:\")\n",
    "print(y_train.value_counts(normalize=True))\n",
    "print(\"Percentage of classes in test set:\")\n",
    "print(y_test.value_counts(normalize=True))"
   ]
  },
  {
   "cell_type": "markdown",
   "metadata": {
    "id": "nCGmJBRE1tOq"
   },
   "source": [
    "#### Model evaluation criterion"
   ]
  },
  {
   "cell_type": "markdown",
   "metadata": {
    "id": "c_D0Yvsb1wdq"
   },
   "source": [
    "* Before building the model, we need to identify which value should be maximum."
   ]
  },
  {
   "cell_type": "markdown",
   "metadata": {
    "id": "GRmbI2Rk19jD"
   },
   "source": [
    "#### The model may make wrong predictions:\n",
    "* The model predicts that the people has heart disease, but in reality, the people doesn't have heart disease.\n",
    "* The model predicts that the people doesn't have heart disease, but in reality, the people have heart disease."
   ]
  },
  {
   "cell_type": "markdown",
   "metadata": {
    "id": "zgqephCe30mL"
   },
   "source": [
    "#### Which mistake is more important:\n",
    "* The second is more important.\n",
    "* If the mistake happens in the second situation, the people will die due to the wrong prediction, because they might not care about their bodies based on the forecast.\n"
   ]
  },
  {
   "cell_type": "markdown",
   "metadata": {
    "id": "kAVaxRXIRbdt"
   },
   "source": [
    "#### How to reduce the losses?\n",
    "* Recall Score can be used to be a important criterion, greater the recall score higher the chance to reduce the wrong."
   ]
  },
  {
   "cell_type": "markdown",
   "metadata": {
    "id": "4WnR6sa2RkGm"
   },
   "source": [
    "#### Create functions to calculate different metrics- Accuracy, Recall and Precision and plot the confusion matrix."
   ]
  },
  {
   "cell_type": "code",
   "execution_count": 158,
   "metadata": {
    "id": "jww4bxMqweK8"
   },
   "outputs": [],
   "source": [
    "def model_performance_classification_sklearn(model, predictors, target):\n",
    "    \n",
    "    pred = model.predict(predictors)\n",
    "\n",
    "    acc = accuracy_score(target, pred)  \n",
    "    recall = recall_score(target, pred)  \n",
    "    precision = precision_score(target, pred)  \n",
    "    f1 = f1_score(target, pred) \n",
    "\n",
    "    df_perf = pd.DataFrame(\n",
    "        {\"Accuracy\": acc, \"Recall\": recall, \"Precision\": precision, \"F1\": f1,},\n",
    "        index=[0],\n",
    "    )\n",
    "\n",
    "    return df_perf"
   ]
  },
  {
   "cell_type": "code",
   "execution_count": 159,
   "metadata": {
    "id": "iXN4Bep2weNS"
   },
   "outputs": [],
   "source": [
    "def confusion_matrix_sklearn(model, predictors, target):\n",
    "    \n",
    "    y_pred = model.predict(predictors)\n",
    "    cm = confusion_matrix(target, y_pred)\n",
    "    labels = np.asarray(\n",
    "        [\n",
    "            [\"{0:0.0f}\".format(item) + \"\\n{0:.2%}\".format(item / cm.flatten().sum())]\n",
    "            for item in cm.flatten()\n",
    "        ]\n",
    "    ).reshape(2, 2)\n",
    "\n",
    "    plt.figure(figsize=(6, 4))\n",
    "    sns.heatmap(cm, annot=labels, fmt=\"\")\n",
    "    plt.ylabel(\"True label\")\n",
    "    plt.xlabel(\"Predicted label\")"
   ]
  },
  {
   "cell_type": "markdown",
   "metadata": {
    "id": "MokGg-15R38s"
   },
   "source": [
    "### Building bagging and boosting models"
   ]
  },
  {
   "cell_type": "markdown",
   "metadata": {
    "id": "GcdkndEXSPnv"
   },
   "source": [
    "#### 1.Bagging Models"
   ]
  },
  {
   "cell_type": "markdown",
   "metadata": {
    "id": "4Cm6yVKaSS16"
   },
   "source": [
    "#### 1.1 Decision Tree Model"
   ]
  },
  {
   "cell_type": "markdown",
   "metadata": {
    "id": "-c7lrOe6SXKR"
   },
   "source": [
    "* In this case, we can pass a dictionary {0:0.54,1:0.46} to the model to specify the weight of each class and the decision tree will give more weightage to class 1."
   ]
  },
  {
   "cell_type": "code",
   "execution_count": 162,
   "metadata": {
    "colab": {
     "base_uri": "https://localhost:8080/"
    },
    "id": "YL9-pr62wePZ",
    "outputId": "7d1f662f-3dd2-478e-d5b5-2dfc1c5937f6"
   },
   "outputs": [
    {
     "data": {
      "text/plain": [
       "DecisionTreeClassifier(class_weight={0: 0.54, 1: 0.46}, random_state=1)"
      ]
     },
     "execution_count": 162,
     "metadata": {},
     "output_type": "execute_result"
    }
   ],
   "source": [
    "dtree = DecisionTreeClassifier(criterion='gini',class_weight={0:0.54,1:0.46},random_state=1)\n",
    "dtree.fit(X_train, y_train)"
   ]
  },
  {
   "cell_type": "code",
   "execution_count": 163,
   "metadata": {
    "colab": {
     "base_uri": "https://localhost:8080/",
     "height": 279
    },
    "id": "nkmw0_1ZSkoa",
    "outputId": "693154c3-86c9-4bf9-8a56-b7c37401dd04"
   },
   "outputs": [
    {
     "data": {
      "image/png": "[encoded data removed]",
      "text/plain": [
       "<Figure size 432x288 with 2 Axes>"
      ]
     },
     "metadata": {
      "needs_background": "light"
     },
     "output_type": "display_data"
    }
   ],
   "source": [
    "confusion_matrix_sklearn(dtree, X_train, y_train)"
   ]
  },
  {
   "cell_type": "code",
   "execution_count": 164,
   "metadata": {
    "colab": {
     "base_uri": "https://localhost:8080/"
    },
    "id": "5FphoYXpS7wb",
    "outputId": "68fff6ca-0a6c-4180-b11a-a5134177fd5e"
   },
   "outputs": [
    {
     "name": "stdout",
     "output_type": "stream",
     "text": [
      "Training performance \n",
      "    Accuracy  Recall  Precision   F1\n",
      "0       1.0     1.0        1.0  1.0\n"
     ]
    }
   ],
   "source": [
    "dtree_model_train_perf=model_performance_classification_sklearn(dtree, X_train, y_train)\n",
    "print(\"Training performance \\n\",dtree_model_train_perf)"
   ]
  },
  {
   "cell_type": "markdown",
   "metadata": {
    "id": "RBgNI52jTGxY"
   },
   "source": [
    "##### Check in test dataset"
   ]
  },
  {
   "cell_type": "code",
   "execution_count": 165,
   "metadata": {
    "colab": {
     "base_uri": "https://localhost:8080/",
     "height": 279
    },
    "id": "zvO4NtPTTEN4",
    "outputId": "e98fc5d5-afc8-413a-c03f-6ff222c5610c"
   },
   "outputs": [
    {
     "data": {
      "image/png": "[encoded data removed]",
      "text/plain": [
       "<Figure size 432x288 with 2 Axes>"
      ]
     },
     "metadata": {
      "needs_background": "light"
     },
     "output_type": "display_data"
    }
   ],
   "source": [
    "confusion_matrix_sklearn(dtree, X_test, y_test)"
   ]
  },
  {
   "cell_type": "code",
   "execution_count": 166,
   "metadata": {
    "colab": {
     "base_uri": "https://localhost:8080/"
    },
    "id": "Qr6l27w0TKLW",
    "outputId": "b5d19454-5913-4083-da2d-979ac165c18f"
   },
   "outputs": [
    {
     "name": "stdout",
     "output_type": "stream",
     "text": [
      "Testing performance \n",
      "    Accuracy    Recall  Precision        F1\n",
      "0  0.622951  0.678571   0.575758  0.622951\n"
     ]
    }
   ],
   "source": [
    "dtree_model_test_perf=model_performance_classification_sklearn(dtree, X_test, y_test)\n",
    "print(\"Testing performance \\n\",dtree_model_test_perf)"
   ]
  },
  {
   "cell_type": "markdown",
   "metadata": {
    "id": "8evdWpiOTQKV"
   },
   "source": [
    "* Decision tree is working well on the training data but is not able to generalize well on the test data concerning the Recall, it's overfit."
   ]
  },
  {
   "cell_type": "markdown",
   "metadata": {
    "id": "NRBJZPnSTj8d"
   },
   "source": [
    "#### 1.2 Bagging Classifier"
   ]
  },
  {
   "cell_type": "code",
   "execution_count": 167,
   "metadata": {
    "colab": {
     "base_uri": "https://localhost:8080/"
    },
    "id": "dWS0zWeVTM_q",
    "outputId": "9884c589-db82-4f30-8760-34595a1d50be"
   },
   "outputs": [
    {
     "data": {
      "text/plain": [
       "BaggingClassifier(random_state=1)"
      ]
     },
     "execution_count": 167,
     "metadata": {},
     "output_type": "execute_result"
    }
   ],
   "source": [
    "bagging = BaggingClassifier(random_state=1)\n",
    "bagging.fit(X_train,y_train)"
   ]
  },
  {
   "cell_type": "code",
   "execution_count": 168,
   "metadata": {
    "colab": {
     "base_uri": "https://localhost:8080/",
     "height": 279
    },
    "id": "-Inn0C91Tm_b",
    "outputId": "b8bd5351-6eba-4d1b-9c75-417cf2a09378"
   },
   "outputs": [
    {
     "data": {
      "image/png": "[encoded data removed]",
      "text/plain": [
       "<Figure size 432x288 with 2 Axes>"
      ]
     },
     "metadata": {
      "needs_background": "light"
     },
     "output_type": "display_data"
    }
   ],
   "source": [
    "confusion_matrix_sklearn(bagging, X_train, y_train)"
   ]
  },
  {
   "cell_type": "code",
   "execution_count": 169,
   "metadata": {
    "colab": {
     "base_uri": "https://localhost:8080/"
    },
    "id": "n3c602ifTnB9",
    "outputId": "825450bb-c27f-4561-a267-37e9ba5da8e0"
   },
   "outputs": [
    {
     "name": "stdout",
     "output_type": "stream",
     "text": [
      "Training performance \n",
      "    Accuracy    Recall  Precision        F1\n",
      "0  0.995868  0.990991        1.0  0.995475\n"
     ]
    }
   ],
   "source": [
    "bagging_model_train_perf=model_performance_classification_sklearn(bagging, X_train, y_train)\n",
    "print(\"Training performance \\n\",bagging_model_train_perf)"
   ]
  },
  {
   "cell_type": "markdown",
   "metadata": {
    "id": "RjqXoikwTwkE"
   },
   "source": [
    "##### Check on the test data"
   ]
  },
  {
   "cell_type": "code",
   "execution_count": 170,
   "metadata": {
    "colab": {
     "base_uri": "https://localhost:8080/",
     "height": 283
    },
    "id": "0GRGrk2mTnFd",
    "outputId": "dc0dbcd4-fb98-44bf-ab48-a61a36e12beb"
   },
   "outputs": [
    {
     "data": {
      "image/png": "[encoded data removed]",
      "text/plain": [
       "<Figure size 432x288 with 2 Axes>"
      ]
     },
     "metadata": {
      "needs_background": "light"
     },
     "output_type": "display_data"
    }
   ],
   "source": [
    "confusion_matrix_sklearn(bagging, X_test, y_test)"
   ]
  },
  {
   "cell_type": "code",
   "execution_count": 171,
   "metadata": {
    "colab": {
     "base_uri": "https://localhost:8080/"
    },
    "id": "lMcODo0gTnH0",
    "outputId": "162c7c5e-7375-4c64-f3cb-37ca567adf77"
   },
   "outputs": [
    {
     "name": "stdout",
     "output_type": "stream",
     "text": [
      "Testing performance \n",
      "    Accuracy    Recall  Precision        F1\n",
      "0  0.688525  0.642857   0.666667  0.654545\n"
     ]
    }
   ],
   "source": [
    "bagging_model_test_perf=model_performance_classification_sklearn(bagging, X_test, y_test)\n",
    "print(\"Testing performance \\n\",bagging_model_test_perf)"
   ]
  },
  {
   "cell_type": "markdown",
   "metadata": {
    "id": "N1_YSiwKT_I5"
   },
   "source": [
    "* Bagging classifier is overfitting on the training set and is performing poorly on the test set in terms of Recall."
   ]
  },
  {
   "cell_type": "markdown",
   "metadata": {
    "id": "hiVos5FkTj-g"
   },
   "source": [
    "#### 1.3 Bagging Classifier with weighted decision tree"
   ]
  },
  {
   "cell_type": "code",
   "execution_count": 172,
   "metadata": {
    "colab": {
     "base_uri": "https://localhost:8080/"
    },
    "id": "kP2pVrIHTnKK",
    "outputId": "882fa903-f536-4603-cb63-da626954c669"
   },
   "outputs": [
    {
     "data": {
      "text/plain": [
       "BaggingClassifier(base_estimator=DecisionTreeClassifier(class_weight={0: 0.54,\n",
       "                                                                      1: 0.46},\n",
       "                                                        random_state=1),\n",
       "                  random_state=1)"
      ]
     },
     "execution_count": 172,
     "metadata": {},
     "output_type": "execute_result"
    }
   ],
   "source": [
    "bagging_wt = BaggingClassifier(base_estimator=DecisionTreeClassifier(criterion='gini',class_weight={0:0.54,1:0.46},random_state=1),random_state=1)\n",
    "bagging_wt.fit(X_train,y_train)"
   ]
  },
  {
   "cell_type": "code",
   "execution_count": 173,
   "metadata": {
    "colab": {
     "base_uri": "https://localhost:8080/",
     "height": 279
    },
    "id": "ge2V5m95UQoE",
    "outputId": "0f270ffb-1b58-4e91-d342-7c8288e46ec0"
   },
   "outputs": [
    {
     "data": {
      "image/png": "[encoded data removed]",
      "text/plain": [
       "<Figure size 432x288 with 2 Axes>"
      ]
     },
     "metadata": {
      "needs_background": "light"
     },
     "output_type": "display_data"
    }
   ],
   "source": [
    "confusion_matrix_sklearn(bagging_wt,X_train,y_train)"
   ]
  },
  {
   "cell_type": "code",
   "execution_count": 174,
   "metadata": {
    "colab": {
     "base_uri": "https://localhost:8080/"
    },
    "id": "8MA_zn_tUQqp",
    "outputId": "6916efd7-d1b5-467a-f04d-fa49947258a6"
   },
   "outputs": [
    {
     "name": "stdout",
     "output_type": "stream",
     "text": [
      "Training performance \n",
      "    Accuracy    Recall  Precision        F1\n",
      "0  0.995868  0.990991        1.0  0.995475\n"
     ]
    }
   ],
   "source": [
    "bagging_wt_model_train_perf=model_performance_classification_sklearn(bagging_wt,X_train,y_train)\n",
    "print(\"Training performance \\n\",bagging_wt_model_train_perf)"
   ]
  },
  {
   "cell_type": "code",
   "execution_count": 175,
   "metadata": {
    "colab": {
     "base_uri": "https://localhost:8080/",
     "height": 283
    },
    "id": "HH15CkfnUQs7",
    "outputId": "a0ac94a4-b0fd-40af-a068-e475266b6198"
   },
   "outputs": [
    {
     "data": {
      "image/png": "[encoded data removed]",
      "text/plain": [
       "<Figure size 432x288 with 2 Axes>"
      ]
     },
     "metadata": {
      "needs_background": "light"
     },
     "output_type": "display_data"
    }
   ],
   "source": [
    "confusion_matrix_sklearn(bagging_wt,X_test,y_test)"
   ]
  },
  {
   "cell_type": "code",
   "execution_count": 176,
   "metadata": {
    "colab": {
     "base_uri": "https://localhost:8080/"
    },
    "id": "lCmLX1nTUQvR",
    "outputId": "753ef10e-9558-4080-b013-6344e44f5628"
   },
   "outputs": [
    {
     "name": "stdout",
     "output_type": "stream",
     "text": [
      "Testing performance \n",
      "    Accuracy    Recall  Precision        F1\n",
      "0  0.704918  0.678571   0.678571  0.678571\n"
     ]
    }
   ],
   "source": [
    "bagging_wt_model_test_perf=model_performance_classification_sklearn(bagging_wt, X_test, y_test)\n",
    "print(\"Testing performance \\n\",bagging_wt_model_test_perf)"
   ]
  },
  {
   "cell_type": "markdown",
   "metadata": {
    "id": "NgsgDLhEVWKt"
   },
   "source": [
    "* Bagging classifier with a weighted decision tree is giving very good accuracy and prediction but is not able to generalize well on test data in terms of Recall. Still overfitting, not improve much."
   ]
  },
  {
   "cell_type": "markdown",
   "metadata": {
    "id": "1BTvW7OhVkfW"
   },
   "source": [
    "#### 1.4 Random Forest"
   ]
  },
  {
   "cell_type": "code",
   "execution_count": 177,
   "metadata": {
    "colab": {
     "base_uri": "https://localhost:8080/"
    },
    "id": "27XQ0UP6UQxn",
    "outputId": "f0b7e016-2e24-45db-fb95-bcf79906e213"
   },
   "outputs": [
    {
     "data": {
      "text/plain": [
       "RandomForestClassifier(random_state=1)"
      ]
     },
     "execution_count": 177,
     "metadata": {},
     "output_type": "execute_result"
    }
   ],
   "source": [
    "rf = RandomForestClassifier(random_state=1)\n",
    "rf.fit(X_train,y_train)"
   ]
  },
  {
   "cell_type": "code",
   "execution_count": 178,
   "metadata": {
    "colab": {
     "base_uri": "https://localhost:8080/",
     "height": 279
    },
    "id": "tCLDA726UQz9",
    "outputId": "0121dce1-8dd3-43d6-858a-76a894fe5427"
   },
   "outputs": [
    {
     "data": {
      "image/png": "[encoded data removed]",
      "text/plain": [
       "<Figure size 432x288 with 2 Axes>"
      ]
     },
     "metadata": {
      "needs_background": "light"
     },
     "output_type": "display_data"
    }
   ],
   "source": [
    "confusion_matrix_sklearn(rf,X_train,y_train)"
   ]
  },
  {
   "cell_type": "code",
   "execution_count": 179,
   "metadata": {
    "colab": {
     "base_uri": "https://localhost:8080/"
    },
    "id": "jVTsq7cVUQ2I",
    "outputId": "085d4bac-07b3-4667-be8a-71c25258f198"
   },
   "outputs": [
    {
     "name": "stdout",
     "output_type": "stream",
     "text": [
      "Training performance \n",
      "    Accuracy  Recall  Precision   F1\n",
      "0       1.0     1.0        1.0  1.0\n"
     ]
    }
   ],
   "source": [
    "rf_model_train_perf=model_performance_classification_sklearn(rf,X_train,y_train)\n",
    "print(\"Training performance \\n\",rf_model_train_perf)"
   ]
  },
  {
   "cell_type": "markdown",
   "metadata": {
    "id": "g1ghiPxuWLe8"
   },
   "source": [
    "* Check on the test dataset"
   ]
  },
  {
   "cell_type": "code",
   "execution_count": 180,
   "metadata": {
    "colab": {
     "base_uri": "https://localhost:8080/",
     "height": 279
    },
    "id": "3XeNigjRUQ4N",
    "outputId": "7a60d039-ed38-432d-de38-4f1345e7ae09"
   },
   "outputs": [
    {
     "data": {
      "image/png": "[encoded data removed]",
      "text/plain": [
       "<Figure size 432x288 with 2 Axes>"
      ]
     },
     "metadata": {
      "needs_background": "light"
     },
     "output_type": "display_data"
    }
   ],
   "source": [
    "confusion_matrix_sklearn(rf,X_test,y_test)"
   ]
  },
  {
   "cell_type": "code",
   "execution_count": 181,
   "metadata": {
    "colab": {
     "base_uri": "https://localhost:8080/"
    },
    "id": "WGJzp8K8UQ6S",
    "outputId": "4181dfd1-739e-4d21-8ea5-ab61de46e3f3"
   },
   "outputs": [
    {
     "name": "stdout",
     "output_type": "stream",
     "text": [
      "Testing performance \n",
      "    Accuracy    Recall  Precision        F1\n",
      "0  0.737705  0.642857       0.75  0.692308\n"
     ]
    }
   ],
   "source": [
    "rf_model_test_perf=model_performance_classification_sklearn(rf,X_test,y_test)\n",
    "print(\"Testing performance \\n\",rf_model_test_perf)"
   ]
  },
  {
   "cell_type": "markdown",
   "metadata": {
    "id": "6vutUbh6VzZP"
   },
   "source": [
    "* Random Forest has performed well in terms of accuracy, precision, Recall and F1, but it is not able to generalize well on the test data in terms of Recall, still overfitting, but better than the decission tree and decission tree with weight class."
   ]
  },
  {
   "cell_type": "markdown",
   "metadata": {
    "id": "GvStw3HQTkBU"
   },
   "source": [
    "#### 1.5 Random forest with class weights"
   ]
  },
  {
   "cell_type": "code",
   "execution_count": 182,
   "metadata": {
    "colab": {
     "base_uri": "https://localhost:8080/"
    },
    "id": "rZbAkoLSV4uz",
    "outputId": "e88bd4ec-7d56-47af-8d4a-96e91250b53c"
   },
   "outputs": [
    {
     "data": {
      "text/plain": [
       "RandomForestClassifier(class_weight={0: 0.54, 1: 0.46}, random_state=1)"
      ]
     },
     "execution_count": 182,
     "metadata": {},
     "output_type": "execute_result"
    }
   ],
   "source": [
    "rf_wt = RandomForestClassifier(class_weight={0:0.54,1:0.46}, random_state=1)\n",
    "rf_wt.fit(X_train,y_train)"
   ]
  },
  {
   "cell_type": "code",
   "execution_count": 183,
   "metadata": {
    "colab": {
     "base_uri": "https://localhost:8080/",
     "height": 279
    },
    "id": "KGCL8-ukV_Ql",
    "outputId": "eeec96bf-f81c-4815-d00b-c2c47f14e44b"
   },
   "outputs": [
    {
     "data": {
      "image/png": "[encoded data removed]",
      "text/plain": [
       "<Figure size 432x288 with 2 Axes>"
      ]
     },
     "metadata": {
      "needs_background": "light"
     },
     "output_type": "display_data"
    }
   ],
   "source": [
    "confusion_matrix_sklearn(rf_wt, X_train,y_train)"
   ]
  },
  {
   "cell_type": "code",
   "execution_count": 184,
   "metadata": {
    "colab": {
     "base_uri": "https://localhost:8080/"
    },
    "id": "3XcZAjrVWBFS",
    "outputId": "fabd4440-be31-4a9d-e95e-d39b44b9660b"
   },
   "outputs": [
    {
     "name": "stdout",
     "output_type": "stream",
     "text": [
      "Training performance \n",
      "    Accuracy  Recall  Precision   F1\n",
      "0       1.0     1.0        1.0  1.0\n"
     ]
    }
   ],
   "source": [
    "rf_wt_model_train_perf=model_performance_classification_sklearn(rf_wt, X_train,y_train)\n",
    "print(\"Training performance \\n\",rf_wt_model_train_perf)"
   ]
  },
  {
   "cell_type": "markdown",
   "metadata": {
    "id": "FYYEppobWEZr"
   },
   "source": [
    "* Check on the test dataset"
   ]
  },
  {
   "cell_type": "code",
   "execution_count": 185,
   "metadata": {
    "colab": {
     "base_uri": "https://localhost:8080/",
     "height": 279
    },
    "id": "pdSOzmONWCtW",
    "outputId": "28e01024-2572-4ea8-9f97-b8f58128f67e"
   },
   "outputs": [
    {
     "data": {
      "image/png": "[encoded data removed]",
      "text/plain": [
       "<Figure size 432x288 with 2 Axes>"
      ]
     },
     "metadata": {
      "needs_background": "light"
     },
     "output_type": "display_data"
    }
   ],
   "source": [
    "confusion_matrix_sklearn(rf_wt, X_test,y_test)"
   ]
  },
  {
   "cell_type": "code",
   "execution_count": 186,
   "metadata": {
    "colab": {
     "base_uri": "https://localhost:8080/"
    },
    "id": "TNuxpwL-WGf5",
    "outputId": "18299285-c5e3-4169-980c-222218123b67"
   },
   "outputs": [
    {
     "name": "stdout",
     "output_type": "stream",
     "text": [
      "Testing performance \n",
      "    Accuracy    Recall  Precision        F1\n",
      "0  0.721311  0.678571   0.703704  0.690909\n"
     ]
    }
   ],
   "source": [
    "rf_wt_model_test_perf=model_performance_classification_sklearn(rf_wt, X_test,y_test)\n",
    "print(\"Testing performance \\n\",rf_wt_model_test_perf)"
   ]
  },
  {
   "cell_type": "markdown",
   "metadata": {
    "id": "8oCOFRRgWN7-"
   },
   "source": [
    "* There is not much improvement in metrics of weighted random forest as compared to the unweighted random forest."
   ]
  },
  {
   "cell_type": "markdown",
   "metadata": {
    "id": "dnBrmatQWRve"
   },
   "source": [
    "#### 2.Boosting Model"
   ]
  },
  {
   "cell_type": "markdown",
   "metadata": {
    "id": "7E0lfazqWRyQ"
   },
   "source": [
    "#### 2.1 AdaBoost Classifier"
   ]
  },
  {
   "cell_type": "code",
   "execution_count": 187,
   "metadata": {
    "colab": {
     "base_uri": "https://localhost:8080/"
    },
    "id": "rxDtLsTlWIS1",
    "outputId": "dc884b4f-1886-4cb5-8ea6-a210ccbc4654"
   },
   "outputs": [
    {
     "data": {
      "text/plain": [
       "AdaBoostClassifier(random_state=1)"
      ]
     },
     "execution_count": 187,
     "metadata": {},
     "output_type": "execute_result"
    }
   ],
   "source": [
    "abc = AdaBoostClassifier(random_state=1)\n",
    "abc.fit(X_train,y_train)"
   ]
  },
  {
   "cell_type": "code",
   "execution_count": 188,
   "metadata": {
    "colab": {
     "base_uri": "https://localhost:8080/",
     "height": 279
    },
    "id": "BT46pDdgWbAR",
    "outputId": "052e3707-d902-44a0-be04-2e94b4ef15a6"
   },
   "outputs": [
    {
     "data": {
      "image/png": "[encoded data removed]",
      "text/plain": [
       "<Figure size 432x288 with 2 Axes>"
      ]
     },
     "metadata": {
      "needs_background": "light"
     },
     "output_type": "display_data"
    }
   ],
   "source": [
    "confusion_matrix_sklearn(abc, X_train,y_train)"
   ]
  },
  {
   "cell_type": "code",
   "execution_count": 189,
   "metadata": {
    "colab": {
     "base_uri": "https://localhost:8080/"
    },
    "id": "kG15EMKYWcfO",
    "outputId": "72f1e569-aac7-4db2-8417-941b8f08ee8b"
   },
   "outputs": [
    {
     "name": "stdout",
     "output_type": "stream",
     "text": [
      "Training performance \n",
      "    Accuracy    Recall  Precision       F1\n",
      "0  0.880165  0.855856    0.87963  0.86758\n"
     ]
    }
   ],
   "source": [
    "abc_model_train_perf=model_performance_classification_sklearn(abc, X_train,y_train)\n",
    "print(\"Training performance \\n\",abc_model_train_perf)"
   ]
  },
  {
   "cell_type": "markdown",
   "metadata": {
    "id": "4IEJYRHKWjZ3"
   },
   "source": [
    "* Check on the test dataset"
   ]
  },
  {
   "cell_type": "code",
   "execution_count": 190,
   "metadata": {
    "colab": {
     "base_uri": "https://localhost:8080/",
     "height": 279
    },
    "id": "-eMAQSTvWexI",
    "outputId": "4f0fe157-b050-4a2c-f3e2-53831975c27c"
   },
   "outputs": [
    {
     "data": {
      "image/png": "[encoded data removed]",
      "text/plain": [
       "<Figure size 432x288 with 2 Axes>"
      ]
     },
     "metadata": {
      "needs_background": "light"
     },
     "output_type": "display_data"
    }
   ],
   "source": [
    "confusion_matrix_sklearn(abc, X_test,y_test)"
   ]
  },
  {
   "cell_type": "code",
   "execution_count": 191,
   "metadata": {
    "colab": {
     "base_uri": "https://localhost:8080/"
    },
    "id": "M2ecz37NWlhM",
    "outputId": "9d61a865-4e23-4367-fa6b-f76619659cb7"
   },
   "outputs": [
    {
     "name": "stdout",
     "output_type": "stream",
     "text": [
      "Testing performance \n",
      "    Accuracy    Recall  Precision        F1\n",
      "0  0.721311  0.607143    0.73913  0.666667\n"
     ]
    }
   ],
   "source": [
    "abc_model_test_perf=model_performance_classification_sklearn(abc, X_test,y_test)\n",
    "print(\"Testing performance \\n\",abc_model_test_perf)"
   ]
  },
  {
   "cell_type": "markdown",
   "metadata": {
    "id": "-IRyS1eLWr0P"
   },
   "source": [
    "* It's not as overfit as before, but the recall score still low. "
   ]
  },
  {
   "cell_type": "markdown",
   "metadata": {
    "id": "MTrJhZcgW3sg"
   },
   "source": [
    "#### 2.2 Gradient Boosting Classifier"
   ]
  },
  {
   "cell_type": "code",
   "execution_count": 192,
   "metadata": {
    "colab": {
     "base_uri": "https://localhost:8080/"
    },
    "id": "DwbjeoPAWn8n",
    "outputId": "e96a549a-95a3-4940-86e0-4761c5bf8b8c"
   },
   "outputs": [
    {
     "data": {
      "text/plain": [
       "GradientBoostingClassifier(random_state=1)"
      ]
     },
     "execution_count": 192,
     "metadata": {},
     "output_type": "execute_result"
    }
   ],
   "source": [
    "gbc = GradientBoostingClassifier(random_state=1)\n",
    "gbc.fit(X_train,y_train)"
   ]
  },
  {
   "cell_type": "code",
   "execution_count": 193,
   "metadata": {
    "colab": {
     "base_uri": "https://localhost:8080/",
     "height": 279
    },
    "id": "0JATWnJrW52Q",
    "outputId": "e63d7925-f4be-415f-eef0-5ed4eccba8bc"
   },
   "outputs": [
    {
     "data": {
      "image/png": "[encoded data removed]",
      "text/plain": [
       "<Figure size 432x288 with 2 Axes>"
      ]
     },
     "metadata": {
      "needs_background": "light"
     },
     "output_type": "display_data"
    }
   ],
   "source": [
    "confusion_matrix_sklearn(gbc, X_train,y_train)"
   ]
  },
  {
   "cell_type": "code",
   "execution_count": 194,
   "metadata": {
    "colab": {
     "base_uri": "https://localhost:8080/"
    },
    "id": "du_51DG7W7QU",
    "outputId": "d89e12fb-a99b-4748-b084-972407adae8c"
   },
   "outputs": [
    {
     "name": "stdout",
     "output_type": "stream",
     "text": [
      "Training performance \n",
      "    Accuracy    Recall  Precision        F1\n",
      "0  0.983471  0.972973   0.990826  0.981818\n"
     ]
    }
   ],
   "source": [
    "gbc_model_train_perf=model_performance_classification_sklearn(gbc, X_train,y_train)\n",
    "print(\"Training performance \\n\",gbc_model_train_perf)"
   ]
  },
  {
   "cell_type": "markdown",
   "metadata": {
    "id": "5l49WKxWW_PI"
   },
   "source": [
    "* Check on the test dataset"
   ]
  },
  {
   "cell_type": "code",
   "execution_count": 195,
   "metadata": {
    "colab": {
     "base_uri": "https://localhost:8080/",
     "height": 283
    },
    "id": "E2LVpofbW9Vj",
    "outputId": "386089b3-7e19-4a3f-d69b-08bc5fb1d54c"
   },
   "outputs": [
    {
     "data": {
      "image/png": "[encoded data removed]",
      "text/plain": [
       "<Figure size 432x288 with 2 Axes>"
      ]
     },
     "metadata": {
      "needs_background": "light"
     },
     "output_type": "display_data"
    }
   ],
   "source": [
    "confusion_matrix_sklearn(gbc, X_test,y_test)"
   ]
  },
  {
   "cell_type": "code",
   "execution_count": 196,
   "metadata": {
    "colab": {
     "base_uri": "https://localhost:8080/"
    },
    "id": "kHe2tTzoXBsA",
    "outputId": "6f920a21-6f7c-4b2d-d0eb-fea6aea61a35"
   },
   "outputs": [
    {
     "name": "stdout",
     "output_type": "stream",
     "text": [
      "Testing performance \n",
      "    Accuracy    Recall  Precision        F1\n",
      "0  0.655738  0.571429       0.64  0.603774\n"
     ]
    }
   ],
   "source": [
    "gbc_model_test_perf=model_performance_classification_sklearn(gbc, X_test,y_test)\n",
    "print(\"Testing performance \\n\",gbc_model_test_perf)"
   ]
  },
  {
   "cell_type": "markdown",
   "metadata": {
    "id": "AInl8IfbXGyK"
   },
   "source": [
    "* Overfit, and Recall even lower than before"
   ]
  },
  {
   "cell_type": "markdown",
   "metadata": {
    "id": "_PnDXnEjXQVL"
   },
   "source": [
    "#### 3. Tuning Models"
   ]
  },
  {
   "cell_type": "markdown",
   "metadata": {
    "id": "1Mlz3zOUZSfh"
   },
   "source": [
    "#### 3.1 Tuning Decision Tree"
   ]
  },
  {
   "cell_type": "code",
   "execution_count": 199,
   "metadata": {
    "colab": {
     "base_uri": "https://localhost:8080/"
    },
    "id": "5Pax4rg4XDDj",
    "outputId": "58d4166a-a4ce-4c0c-ba3c-3529a2d853fc"
   },
   "outputs": [
    {
     "data": {
      "text/plain": [
       "DecisionTreeClassifier(class_weight={0: 0.54, 1: 0.46}, max_depth=2,\n",
       "                       max_leaf_nodes=2, min_impurity_decrease=0.0001,\n",
       "                       random_state=1)"
      ]
     },
     "execution_count": 199,
     "metadata": {},
     "output_type": "execute_result"
    }
   ],
   "source": [
    "dtree_estimator = DecisionTreeClassifier(class_weight={0:0.54,1:0.46},random_state=1)\n",
    "\n",
    "parameters = {'max_depth': np.arange(2,30), \n",
    "              'min_samples_leaf': [1, 2, 5, 7, 10],\n",
    "              'max_leaf_nodes' : [2, 3, 5, 10,15],\n",
    "              'min_impurity_decrease': [0.0001,0.001,0.01,0.1]\n",
    "             }\n",
    "\n",
    "scorer = metrics.make_scorer(metrics.recall_score)\n",
    "\n",
    "grid_obj = GridSearchCV(dtree_estimator, parameters, scoring=scorer)\n",
    "grid_obj = grid_obj.fit(X_train, y_train)\n",
    "\n",
    "dtree_tuned = grid_obj.best_estimator_\n",
    "\n",
    "dtree_tuned.fit(X_train, y_train)"
   ]
  },
  {
   "cell_type": "code",
   "execution_count": 200,
   "metadata": {
    "colab": {
     "base_uri": "https://localhost:8080/",
     "height": 279
    },
    "id": "5aev1fptZclq",
    "outputId": "46e25d45-8563-4a87-90cc-af873eed539e"
   },
   "outputs": [
    {
     "data": {
      "image/png": "[encoded data removed]",
      "text/plain": [
       "<Figure size 432x288 with 2 Axes>"
      ]
     },
     "metadata": {
      "needs_background": "light"
     },
     "output_type": "display_data"
    }
   ],
   "source": [
    "confusion_matrix_sklearn(dtree_tuned, X_train,y_train)"
   ]
  },
  {
   "cell_type": "code",
   "execution_count": 201,
   "metadata": {
    "colab": {
     "base_uri": "https://localhost:8080/"
    },
    "id": "lfLEH7oNaO9c",
    "outputId": "5f323a1b-88be-4622-b830-77a26ad44f1a"
   },
   "outputs": [
    {
     "name": "stdout",
     "output_type": "stream",
     "text": [
      "Training performance \n",
      "    Accuracy    Recall  Precision        F1\n",
      "0  0.756198  0.756757   0.724138  0.740088\n"
     ]
    }
   ],
   "source": [
    "dtree_tuned_model_train_perf=model_performance_classification_sklearn(dtree_tuned, X_train,y_train)\n",
    "print(\"Training performance \\n\",dtree_tuned_model_train_perf)"
   ]
  },
  {
   "cell_type": "markdown",
   "metadata": {
    "id": "IEMKQxQhaTI5"
   },
   "source": [
    "#### Check on the test dataset"
   ]
  },
  {
   "cell_type": "code",
   "execution_count": 202,
   "metadata": {
    "colab": {
     "base_uri": "https://localhost:8080/",
     "height": 279
    },
    "id": "D6ov8ATYaRQt",
    "outputId": "2c01ec51-6566-469a-e222-13e460db1bed"
   },
   "outputs": [
    {
     "data": {
      "image/png": "[encoded data removed]",
      "text/plain": [
       "<Figure size 432x288 with 2 Axes>"
      ]
     },
     "metadata": {
      "needs_background": "light"
     },
     "output_type": "display_data"
    }
   ],
   "source": [
    "confusion_matrix_sklearn(dtree_tuned, X_test,y_test)"
   ]
  },
  {
   "cell_type": "code",
   "execution_count": 203,
   "metadata": {
    "colab": {
     "base_uri": "https://localhost:8080/"
    },
    "id": "dmlYdhhhaWpl",
    "outputId": "1e240768-b134-47fb-85e1-d8841c1d00df"
   },
   "outputs": [
    {
     "name": "stdout",
     "output_type": "stream",
     "text": [
      "Testing performance \n",
      "    Accuracy  Recall  Precision    F1\n",
      "0  0.770492    0.75       0.75  0.75\n"
     ]
    }
   ],
   "source": [
    "dtree_tuned_model_test_perf=model_performance_classification_sklearn(dtree_tuned, X_test, y_test)\n",
    "print(\"Testing performance \\n\",dtree_tuned_model_test_perf)"
   ]
  },
  {
   "cell_type": "markdown",
   "metadata": {
    "id": "tvE1F9lvagie"
   },
   "source": [
    "* Make some improvements here, reduced overfitting, but recall is a little bit lower."
   ]
  },
  {
   "cell_type": "markdown",
   "metadata": {
    "id": "BrTo6bH3aoMw"
   },
   "source": [
    "#### 3.2 Tuning Bagging Classifier"
   ]
  },
  {
   "cell_type": "code",
   "execution_count": 204,
   "metadata": {
    "colab": {
     "base_uri": "https://localhost:8080/"
    },
    "id": "hx6UuykQaZqo",
    "outputId": "675bb0ee-bf83-4c3a-b244-ea1b9d63c947"
   },
   "outputs": [
    {
     "data": {
      "text/plain": [
       "BaggingClassifier(base_estimator=DecisionTreeClassifier(class_weight={0: 0.54,\n",
       "                                                                      1: 0.46},\n",
       "                                                        random_state=1),\n",
       "                  max_features=0.7, max_samples=0.7, n_estimators=30,\n",
       "                  random_state=1)"
      ]
     },
     "execution_count": 204,
     "metadata": {},
     "output_type": "execute_result"
    }
   ],
   "source": [
    "cl1 = DecisionTreeClassifier(class_weight={0:0.54,1:0.46},random_state=1)\n",
    "param_grid = {'base_estimator':[cl1],\n",
    "              'max_features': [0.7,0.8,0.9,1],\n",
    "              'max_samples': [0.7,0.8,0.9,1], \n",
    "              'n_estimators' : [10,20,30,40,50],\n",
    "             }\n",
    "\n",
    "grid = GridSearchCV(BaggingClassifier(random_state=1,bootstrap=True), param_grid=param_grid, scoring = 'recall', cv = 5)\n",
    "grid.fit(X_train, y_train)\n",
    "\n",
    "bagging_tuned  = grid.best_estimator_\n",
    "bagging_tuned.fit(X_train,y_train)"
   ]
  },
  {
   "cell_type": "code",
   "execution_count": 205,
   "metadata": {
    "colab": {
     "base_uri": "https://localhost:8080/",
     "height": 279
    },
    "id": "Bf_K3Zx3auHf",
    "outputId": "d37f966e-eb53-4468-999b-492c61b63943"
   },
   "outputs": [
    {
     "data": {
      "image/png": "[encoded data removed]",
      "text/plain": [
       "<Figure size 432x288 with 2 Axes>"
      ]
     },
     "metadata": {
      "needs_background": "light"
     },
     "output_type": "display_data"
    }
   ],
   "source": [
    "confusion_matrix_sklearn(bagging_tuned, X_train,y_train)"
   ]
  },
  {
   "cell_type": "code",
   "execution_count": 206,
   "metadata": {
    "colab": {
     "base_uri": "https://localhost:8080/"
    },
    "id": "k9GAVH8Ta52Z",
    "outputId": "fbc361a7-10dc-4f6d-b911-99beb2ef89f7"
   },
   "outputs": [
    {
     "name": "stdout",
     "output_type": "stream",
     "text": [
      "Training performance \n",
      "    Accuracy  Recall  Precision        F1\n",
      "0  0.991736     1.0   0.982301  0.991071\n"
     ]
    }
   ],
   "source": [
    "bagging_tuned_model_train_perf=model_performance_classification_sklearn(bagging_tuned, X_train,y_train)\n",
    "print(\"Training performance \\n\",bagging_tuned_model_train_perf)"
   ]
  },
  {
   "cell_type": "markdown",
   "metadata": {
    "id": "U2ie-zl2a9Pf"
   },
   "source": [
    "#### Check on the test dataset"
   ]
  },
  {
   "cell_type": "code",
   "execution_count": 207,
   "metadata": {
    "colab": {
     "base_uri": "https://localhost:8080/",
     "height": 279
    },
    "id": "AOnEaML0a7ir",
    "outputId": "6fe1f9fb-8097-4002-e014-fbd20c761482"
   },
   "outputs": [
    {
     "data": {
      "image/png": "[encoded data removed]",
      "text/plain": [
       "<Figure size 432x288 with 2 Axes>"
      ]
     },
     "metadata": {
      "needs_background": "light"
     },
     "output_type": "display_data"
    }
   ],
   "source": [
    "confusion_matrix_sklearn(bagging_tuned, X_test,y_test)"
   ]
  },
  {
   "cell_type": "code",
   "execution_count": 208,
   "metadata": {
    "colab": {
     "base_uri": "https://localhost:8080/"
    },
    "id": "ZZ2GPQyfa_gI",
    "outputId": "7132168f-25d8-465f-e09f-56cf0f5a1d1f"
   },
   "outputs": [
    {
     "name": "stdout",
     "output_type": "stream",
     "text": [
      "Testing performance \n",
      "    Accuracy    Recall  Precision        F1\n",
      "0  0.688525  0.678571   0.655172  0.666667\n"
     ]
    }
   ],
   "source": [
    "bagging_tuned_model_test_perf=model_performance_classification_sklearn(bagging_tuned, X_test, y_test)\n",
    "print(\"Testing performance \\n\",bagging_tuned_model_test_perf)"
   ]
  },
  {
   "cell_type": "markdown",
   "metadata": {
    "id": "XSCbG5jobEiW"
   },
   "source": [
    "* Even lower"
   ]
  },
  {
   "cell_type": "markdown",
   "metadata": {
    "id": "-50pyuYubJ3n"
   },
   "source": [
    "#### 3.3 Tuning Random Forest"
   ]
  },
  {
   "cell_type": "code",
   "execution_count": 209,
   "metadata": {
    "colab": {
     "base_uri": "https://localhost:8080/"
    },
    "id": "HzZUbSnVbBzb",
    "outputId": "4eec5c5e-18f9-4ab8-f9b6-5c6d03004fb6"
   },
   "outputs": [
    {
     "data": {
      "text/plain": [
       "RandomForestClassifier(max_features=0.2, max_samples=0.4, min_samples_leaf=5,\n",
       "                       n_estimators=110, random_state=1)"
      ]
     },
     "execution_count": 209,
     "metadata": {},
     "output_type": "execute_result"
    }
   ],
   "source": [
    "rf_estimator = RandomForestClassifier(random_state=1)\n",
    "\n",
    "parameters = {  \n",
    "        \"n_estimators\": [110,251,501],\n",
    "        \"min_samples_leaf\": np.arange(5, 10),\n",
    "        \"max_features\": [0.2, 0.7, 0.1],\n",
    "        \"max_samples\": np.arange(0.3, 0.7, 0.1),\n",
    "}\n",
    "\n",
    "grid_obj = GridSearchCV(rf_estimator, parameters, scoring='recall',cv=5)\n",
    "grid_obj = grid_obj.fit(X_train, y_train)\n",
    "\n",
    "rf_tuned = grid_obj.best_estimator_\n",
    "\n",
    "rf_tuned.fit(X_train, y_train)"
   ]
  },
  {
   "cell_type": "code",
   "execution_count": 210,
   "metadata": {
    "colab": {
     "base_uri": "https://localhost:8080/",
     "height": 279
    },
    "id": "reuDfWs6bVC_",
    "outputId": "5ff8dabd-e6fc-4011-c656-ca74682e446d"
   },
   "outputs": [
    {
     "data": {
      "image/png": "[encoded data removed]",
      "text/plain": [
       "<Figure size 432x288 with 2 Axes>"
      ]
     },
     "metadata": {
      "needs_background": "light"
     },
     "output_type": "display_data"
    }
   ],
   "source": [
    "confusion_matrix_sklearn(rf_tuned, X_train,y_train)"
   ]
  },
  {
   "cell_type": "code",
   "execution_count": 211,
   "metadata": {
    "colab": {
     "base_uri": "https://localhost:8080/"
    },
    "id": "tqR0_EOIc8h9",
    "outputId": "6be75367-7746-4c18-d0d3-c59be87e24fd"
   },
   "outputs": [
    {
     "name": "stdout",
     "output_type": "stream",
     "text": [
      "Training performance \n",
      "    Accuracy    Recall  Precision        F1\n",
      "0  0.826446  0.792793    0.82243  0.807339\n"
     ]
    }
   ],
   "source": [
    "rf_tuned_model_train_perf=model_performance_classification_sklearn(rf_tuned, X_train,y_train)\n",
    "print(\"Training performance \\n\",rf_tuned_model_train_perf)"
   ]
  },
  {
   "cell_type": "markdown",
   "metadata": {
    "id": "4HHMirDAdA85"
   },
   "source": [
    "* Check on the test data"
   ]
  },
  {
   "cell_type": "code",
   "execution_count": 212,
   "metadata": {
    "colab": {
     "base_uri": "https://localhost:8080/",
     "height": 279
    },
    "id": "Tr7azy9kc-fG",
    "outputId": "a74ceb46-a0f7-463a-f94f-7ee3fbe75a26"
   },
   "outputs": [
    {
     "data": {
      "image/png": "[encoded data removed]",
      "text/plain": [
       "<Figure size 432x288 with 2 Axes>"
      ]
     },
     "metadata": {
      "needs_background": "light"
     },
     "output_type": "display_data"
    }
   ],
   "source": [
    "confusion_matrix_sklearn(rf_tuned, X_test,y_test)"
   ]
  },
  {
   "cell_type": "code",
   "execution_count": 213,
   "metadata": {
    "colab": {
     "base_uri": "https://localhost:8080/"
    },
    "id": "Ry1i8n9-dEAy",
    "outputId": "97ed8a55-0323-4fe0-df17-2a98bc250be4"
   },
   "outputs": [
    {
     "name": "stdout",
     "output_type": "stream",
     "text": [
      "Testing performance \n",
      "    Accuracy    Recall  Precision        F1\n",
      "0  0.754098  0.678571       0.76  0.716981\n"
     ]
    }
   ],
   "source": [
    "rf_tuned_model_test_perf=model_performance_classification_sklearn(rf_tuned, X_test, y_test)\n",
    "print(\"Testing performance \\n\",rf_tuned_model_test_perf)"
   ]
  },
  {
   "cell_type": "markdown",
   "metadata": {
    "id": "fucoJuEZdIBC"
   },
   "source": [
    "* Test dataset is too small, recall is still very low"
   ]
  },
  {
   "cell_type": "markdown",
   "metadata": {
    "id": "eCxKEaRFdZUq"
   },
   "source": [
    "#### 3.4 Tuning AdaBoosting Classifier"
   ]
  },
  {
   "cell_type": "code",
   "execution_count": 214,
   "metadata": {
    "colab": {
     "base_uri": "https://localhost:8080/"
    },
    "id": "qNxTOXecdF7y",
    "outputId": "91f1ed27-539a-4d77-8d1b-ce5827da12f2"
   },
   "outputs": [
    {
     "data": {
      "text/plain": [
       "AdaBoostClassifier(learning_rate=1, n_estimators=20, random_state=1)"
      ]
     },
     "execution_count": 214,
     "metadata": {},
     "output_type": "execute_result"
    }
   ],
   "source": [
    "abc_tuned = AdaBoostClassifier(random_state=1)\n",
    "\n",
    "parameters = {\n",
    "              'n_estimators': np.arange(10,100,10), \n",
    "              'learning_rate': [1, 0.1, 0.5, 0.01]\n",
    "}\n",
    "\n",
    "acc_scorer = metrics.make_scorer(metrics.recall_score)\n",
    "\n",
    "grid_obj = GridSearchCV(abc_tuned, parameters, scoring=scorer,cv=5)\n",
    "grid_obj = grid_obj.fit(X_train, y_train)\n",
    "\n",
    "abc_tuned = grid_obj.best_estimator_\n",
    "\n",
    "abc_tuned.fit(X_train, y_train)"
   ]
  },
  {
   "cell_type": "code",
   "execution_count": 215,
   "metadata": {
    "colab": {
     "base_uri": "https://localhost:8080/",
     "height": 279
    },
    "id": "B5TeO_kVdsq_",
    "outputId": "e72aaaa9-2e62-483a-9c56-09fe87ae27f5"
   },
   "outputs": [
    {
     "data": {
      "image/png": "[encoded data removed]",
      "text/plain": [
       "<Figure size 432x288 with 2 Axes>"
      ]
     },
     "metadata": {
      "needs_background": "light"
     },
     "output_type": "display_data"
    }
   ],
   "source": [
    "confusion_matrix_sklearn(abc_tuned, X_train,y_train)"
   ]
  },
  {
   "cell_type": "code",
   "execution_count": 216,
   "metadata": {
    "colab": {
     "base_uri": "https://localhost:8080/"
    },
    "id": "0BMKXlXFdvBF",
    "outputId": "139d2ef5-4aea-4f7a-9edb-98e343ab8258"
   },
   "outputs": [
    {
     "name": "stdout",
     "output_type": "stream",
     "text": [
      "Training performance \n",
      "    Accuracy    Recall  Precision        F1\n",
      "0   0.85124  0.810811   0.857143  0.833333\n"
     ]
    }
   ],
   "source": [
    "abc_tuned_model_train_perf=model_performance_classification_sklearn(abc_tuned, X_train,y_train)\n",
    "print(\"Training performance \\n\",abc_tuned_model_train_perf)"
   ]
  },
  {
   "cell_type": "markdown",
   "metadata": {
    "id": "ljL0PfEvdxpm"
   },
   "source": [
    "* Check on the test dataset"
   ]
  },
  {
   "cell_type": "code",
   "execution_count": 217,
   "metadata": {
    "colab": {
     "base_uri": "https://localhost:8080/",
     "height": 279
    },
    "id": "e2YgL59TdvDX",
    "outputId": "06109bf4-6126-43f1-d390-c263775e1574"
   },
   "outputs": [
    {
     "data": {
      "image/png": "[encoded data removed]",
      "text/plain": [
       "<Figure size 432x288 with 2 Axes>"
      ]
     },
     "metadata": {
      "needs_background": "light"
     },
     "output_type": "display_data"
    }
   ],
   "source": [
    "confusion_matrix_sklearn(abc_tuned, X_test,y_test)"
   ]
  },
  {
   "cell_type": "code",
   "execution_count": 218,
   "metadata": {
    "colab": {
     "base_uri": "https://localhost:8080/"
    },
    "id": "-lKW-eNjdvFt",
    "outputId": "1206e33b-7d16-4375-fb57-5fd5c0250be6"
   },
   "outputs": [
    {
     "name": "stdout",
     "output_type": "stream",
     "text": [
      "Testing performance \n",
      "    Accuracy    Recall  Precision        F1\n",
      "0  0.770492  0.678571   0.791667  0.730769\n"
     ]
    }
   ],
   "source": [
    "abc_tuned_model_test_perf=model_performance_classification_sklearn(abc_tuned, X_test, y_test)\n",
    "print(\"Testing performance \\n\",abc_tuned_model_test_perf)"
   ]
  },
  {
   "cell_type": "markdown",
   "metadata": {
    "id": "_Jvh-jV7d9g_"
   },
   "source": [
    "* Still low"
   ]
  },
  {
   "cell_type": "markdown",
   "metadata": {
    "id": "Li6PY3k7eBJ6"
   },
   "source": [
    "#### 3.5 Tuning Gradient Boosting Classifier"
   ]
  },
  {
   "cell_type": "code",
   "execution_count": 219,
   "metadata": {
    "colab": {
     "base_uri": "https://localhost:8080/"
    },
    "id": "z3osKmuud7hl",
    "outputId": "41459615-c4fe-4ca9-885d-8e5aa02df566"
   },
   "outputs": [
    {
     "data": {
      "text/plain": [
       "GradientBoostingClassifier(init=AdaBoostClassifier(random_state=1),\n",
       "                           max_features=0.8, n_estimators=200, random_state=1,\n",
       "                           subsample=0.9)"
      ]
     },
     "execution_count": 219,
     "metadata": {},
     "output_type": "execute_result"
    }
   ],
   "source": [
    "gbc_tuned = GradientBoostingClassifier(\n",
    "    init=AdaBoostClassifier(random_state=1), random_state=1\n",
    ")\n",
    "\n",
    "parameters = {\n",
    "    \"n_estimators\": [200, 250],\n",
    "    \"subsample\": [0.9, 1],\n",
    "    \"max_features\": [0.8, 0.9],\n",
    "    \"learning_rate\": np.arange(0.1, 0.21, 0.1),\n",
    "}\n",
    "\n",
    "acc_scorer = metrics.make_scorer(metrics.recall_score)\n",
    "\n",
    "grid_obj = GridSearchCV(gbc_tuned, parameters, scoring='recall',cv=5)\n",
    "grid_obj = grid_obj.fit(X_train, y_train)\n",
    "\n",
    "gbc_tuned = grid_obj.best_estimator_\n",
    "\n",
    "gbc_tuned.fit(X_train, y_train)"
   ]
  },
  {
   "cell_type": "code",
   "execution_count": 220,
   "metadata": {
    "colab": {
     "base_uri": "https://localhost:8080/",
     "height": 279
    },
    "id": "yC9gyI7geHEr",
    "outputId": "487ff5ea-1dc2-40ef-d43b-77778120ef3a"
   },
   "outputs": [
    {
     "data": {
      "image/png": "[encoded data removed]",
      "text/plain": [
       "<Figure size 432x288 with 2 Axes>"
      ]
     },
     "metadata": {
      "needs_background": "light"
     },
     "output_type": "display_data"
    }
   ],
   "source": [
    "confusion_matrix_sklearn(gbc_tuned, X_train,y_train)"
   ]
  },
  {
   "cell_type": "code",
   "execution_count": 221,
   "metadata": {
    "colab": {
     "base_uri": "https://localhost:8080/"
    },
    "id": "gidH8qvoeJYW",
    "outputId": "09968b50-2c0d-4046-8f7d-e4f63dff0667"
   },
   "outputs": [
    {
     "name": "stdout",
     "output_type": "stream",
     "text": [
      "Training performance \n",
      "    Accuracy  Recall  Precision   F1\n",
      "0       1.0     1.0        1.0  1.0\n"
     ]
    }
   ],
   "source": [
    "gbc_tuned_model_train_perf=model_performance_classification_sklearn(gbc_tuned, X_train,y_train)\n",
    "print(\"Training performance \\n\",gbc_tuned_model_train_perf)"
   ]
  },
  {
   "cell_type": "markdown",
   "metadata": {
    "id": "YebyIsuueK6F"
   },
   "source": [
    "* Check on the test dataset"
   ]
  },
  {
   "cell_type": "code",
   "execution_count": 222,
   "metadata": {
    "colab": {
     "base_uri": "https://localhost:8080/",
     "height": 279
    },
    "id": "jWTnBRjueNFN",
    "outputId": "d5f93b33-706c-4abc-f43c-23e6dc692233"
   },
   "outputs": [
    {
     "data": {
      "image/png": "[encoded data removed]",
      "text/plain": [
       "<Figure size 432x288 with 2 Axes>"
      ]
     },
     "metadata": {
      "needs_background": "light"
     },
     "output_type": "display_data"
    }
   ],
   "source": [
    "confusion_matrix_sklearn(gbc_tuned, X_test,y_test)"
   ]
  },
  {
   "cell_type": "code",
   "execution_count": 223,
   "metadata": {
    "colab": {
     "base_uri": "https://localhost:8080/"
    },
    "id": "G4Bsvv4hePuE",
    "outputId": "2e939dfc-928f-4275-acaf-0cbb2089bc03"
   },
   "outputs": [
    {
     "name": "stdout",
     "output_type": "stream",
     "text": [
      "Testing performance \n",
      "    Accuracy    Recall  Precision        F1\n",
      "0  0.721311  0.678571   0.703704  0.690909\n"
     ]
    }
   ],
   "source": [
    "gbc_tuned_model_test_perf=model_performance_classification_sklearn(gbc_tuned, X_test, y_test)\n",
    "print(\"Testing performance \\n\",gbc_tuned_model_test_perf)"
   ]
  },
  {
   "cell_type": "markdown",
   "metadata": {
    "id": "Nao4o5-8ebwq"
   },
   "source": [
    "* Overfitting and low recall score in test dataset"
   ]
  },
  {
   "cell_type": "markdown",
   "metadata": {
    "id": "RHMitz7rehmT"
   },
   "source": [
    "#### 3.6 Stacking Model"
   ]
  },
  {
   "cell_type": "code",
   "execution_count": 226,
   "metadata": {
    "id": "Q8i-3OjEeU1q"
   },
   "outputs": [],
   "source": [
    "estimators=[('Random Forest', rf_tuned),('Decision Tree', dtree_tuned),\n",
    "           ('Gradient Boosting', gbc_tuned),('AdaBoosting', abc_tuned)]\n",
    "final_estimator=XGBClassifier(random_state=1)"
   ]
  },
  {
   "cell_type": "code",
   "execution_count": 227,
   "metadata": {
    "colab": {
     "base_uri": "https://localhost:8080/"
    },
    "id": "QLS2_NjuektW",
    "outputId": "5b1710db-c39e-4a3f-9558-0d3fe74d8d89"
   },
   "outputs": [
    {
     "data": {
      "text/plain": [
       "StackingClassifier(cv=5,\n",
       "                   estimators=[('Random Forest',\n",
       "                                RandomForestClassifier(max_features=0.2,\n",
       "                                                       max_samples=0.4,\n",
       "                                                       min_samples_leaf=5,\n",
       "                                                       n_estimators=110,\n",
       "                                                       random_state=1)),\n",
       "                               ('Decision Tree',\n",
       "                                DecisionTreeClassifier(class_weight={0: 0.54,\n",
       "                                                                     1: 0.46},\n",
       "                                                       max_depth=2,\n",
       "                                                       max_leaf_nodes=2,\n",
       "                                                       min_impurity_decrease=0.0001,\n",
       "                                                       random_state=1)),\n",
       "                               ('Gradient Boosting',\n",
       "                                GradientBoostingClassifier(init=AdaBoostClassifier(random_state=1),\n",
       "                                                           max_features=0.8,\n",
       "                                                           n_estimators=200,\n",
       "                                                           random_state=1,\n",
       "                                                           subsample=0.9)),\n",
       "                               ('AdaBoosting',\n",
       "                                AdaBoostClassifier(learning_rate=1,\n",
       "                                                   n_estimators=20,\n",
       "                                                   random_state=1))],\n",
       "                   final_estimator=XGBClassifier(random_state=1))"
      ]
     },
     "execution_count": 227,
     "metadata": {},
     "output_type": "execute_result"
    }
   ],
   "source": [
    "stacking_model=StackingClassifier(estimators=estimators, final_estimator=final_estimator,cv=5)\n",
    "stacking_model.fit(X_train,y_train)"
   ]
  },
  {
   "cell_type": "code",
   "execution_count": 228,
   "metadata": {
    "colab": {
     "base_uri": "https://localhost:8080/",
     "height": 279
    },
    "id": "fZ4NF4B2eyVh",
    "outputId": "edb79937-451d-47e0-947a-c3b269d173c9"
   },
   "outputs": [
    {
     "data": {
      "image/png": "[encoded data removed]",
      "text/plain": [
       "<Figure size 432x288 with 2 Axes>"
      ]
     },
     "metadata": {
      "needs_background": "light"
     },
     "output_type": "display_data"
    }
   ],
   "source": [
    "confusion_matrix_sklearn(stacking_model, X_train,y_train)"
   ]
  },
  {
   "cell_type": "code",
   "execution_count": 229,
   "metadata": {
    "colab": {
     "base_uri": "https://localhost:8080/"
    },
    "id": "eIbJjvnUe1ny",
    "outputId": "7d0f5460-91b2-4fd0-b330-0cee9c2929b2"
   },
   "outputs": [
    {
     "name": "stdout",
     "output_type": "stream",
     "text": [
      "Training performance \n",
      "    Accuracy    Recall  Precision        F1\n",
      "0  0.859504  0.837838   0.853211  0.845455\n"
     ]
    }
   ],
   "source": [
    "stacking_model_train_perf=model_performance_classification_sklearn(stacking_model, X_train,y_train)\n",
    "print(\"Training performance \\n\",stacking_model_train_perf)"
   ]
  },
  {
   "cell_type": "markdown",
   "metadata": {
    "id": "_2OjZYU_e5dg"
   },
   "source": [
    "* Check on the test dataset"
   ]
  },
  {
   "cell_type": "code",
   "execution_count": 230,
   "metadata": {
    "colab": {
     "base_uri": "https://localhost:8080/",
     "height": 279
    },
    "id": "xYf0pIVHe3ve",
    "outputId": "c10d1e7a-955a-40c4-f77b-7d77eb834105"
   },
   "outputs": [
    {
     "data": {
      "image/png": "[encoded data removed]",
      "text/plain": [
       "<Figure size 432x288 with 2 Axes>"
      ]
     },
     "metadata": {
      "needs_background": "light"
     },
     "output_type": "display_data"
    }
   ],
   "source": [
    "confusion_matrix_sklearn(stacking_model, X_test,y_test)"
   ]
  },
  {
   "cell_type": "code",
   "execution_count": 231,
   "metadata": {
    "colab": {
     "base_uri": "https://localhost:8080/"
    },
    "id": "YiSH5XPBe9Mv",
    "outputId": "bccfd906-b9ed-4e02-8475-577123002e9a"
   },
   "outputs": [
    {
     "name": "stdout",
     "output_type": "stream",
     "text": [
      "Testing performance \n",
      "    Accuracy    Recall  Precision        F1\n",
      "0  0.672131  0.571429   0.666667  0.615385\n"
     ]
    }
   ],
   "source": [
    "stacking_model_test_perf=model_performance_classification_sklearn(stacking_model, X_test, y_test)\n",
    "print(\"Testing performance \\n\",stacking_model_test_perf)"
   ]
  },
  {
   "cell_type": "markdown",
   "metadata": {
    "id": "nC_zxEGQfMti"
   },
   "source": [
    "* The result doesn't performance good, we think the reason is the dataset is too small?"
   ]
  },
  {
   "cell_type": "markdown",
   "metadata": {
    "id": "kU0DIVtJfXN_"
   },
   "source": [
    "#### Model Performance Comparison and Conclusions"
   ]
  },
  {
   "cell_type": "code",
   "execution_count": 232,
   "metadata": {
    "id": "kPn_hJ83e-OW"
   },
   "outputs": [],
   "source": [
    "# training performance comparison\n",
    "\n",
    "models_train_comp_df = pd.concat(\n",
    "    [\n",
    "dtree_model_train_perf.T,\n",
    "bagging_model_train_perf.T,\n",
    "bagging_wt_model_train_perf.T,\n",
    "rf_model_train_perf.T,\n",
    "rf_wt_model_train_perf.T,\n",
    "abc_model_train_perf.T,\n",
    "gbc_model_train_perf.T,\n",
    "dtree_tuned_model_train_perf.T,\n",
    "bagging_tuned_model_train_perf.T,\n",
    "rf_tuned_model_train_perf.T,\n",
    "abc_tuned_model_train_perf.T,\n",
    "gbc_tuned_model_train_perf.T,\n",
    "stacking_model_train_perf.T,\n",
    "    ],\n",
    "    axis=1,\n",
    ")\n",
    "models_train_comp_df.columns = [\n",
    "    \"Decision Tree without weight class\",\n",
    "    \"Bagging model without tweak\",\n",
    "    \"Bagging model with weight class\",\n",
    "    \"Random Forest without weight class\",\n",
    "    \"Random Forest with weight class\",\n",
    "    \"AdaBoosting without tweak\",\n",
    "    \"Gradient Boosting without tweak\",\n",
    "    \"Decision Tree tuned\",\n",
    "    \"Bagging tuned\",\n",
    "    \"Random Forest tuned\",\n",
    "    \"AdaBoosting with tuned\",\n",
    "    \"Gradient Boosting with tuned\",\n",
    "    \"Stacking Model\",\n",
    "]"
   ]
  },
  {
   "cell_type": "code",
   "execution_count": 233,
   "metadata": {
    "id": "OvR38eDHfaHI"
   },
   "outputs": [],
   "source": [
    "# test performance comparison\n",
    "models_test_comp_df = pd.concat(\n",
    "    [\n",
    "        dtree_model_test_perf.T,\n",
    "        bagging_model_test_perf.T,\n",
    "        bagging_wt_model_test_perf.T,\n",
    "        rf_model_test_perf.T,\n",
    "        rf_wt_model_test_perf.T,\n",
    "        abc_model_test_perf.T,\n",
    "        gbc_model_test_perf.T,\n",
    "        dtree_tuned_model_test_perf.T,\n",
    "        bagging_tuned_model_test_perf.T,\n",
    "        rf_tuned_model_test_perf.T,\n",
    "        abc_tuned_model_test_perf.T,\n",
    "        gbc_tuned_model_test_perf.T,\n",
    "        stacking_model_test_perf.T,\n",
    "    ],\n",
    "    axis=1,\n",
    ")\n",
    "models_test_comp_df.columns = [\n",
    "    \"Decision Tree without weight class\",\n",
    "    \"Bagging model without tweak\",\n",
    "    \"Bagging model with weight class\",\n",
    "    \"Random Forest without weight class\",\n",
    "    \"Random Forest with weight class\",\n",
    "    \"AdaBoosting without tweak\",\n",
    "    \"Gradient Boosting without tweak\",\n",
    "    \"Decision Tree tuned\",\n",
    "    \"Bagging tuned\",\n",
    "    \"Random Forest tuned\",\n",
    "    \"AdaBoosting with tuned\",\n",
    "    \"Gradient Boosting with tuned\",\n",
    "    \"Stacking Model\",\n",
    "]"
   ]
  },
  {
   "cell_type": "code",
   "execution_count": 234,
   "metadata": {
    "colab": {
     "base_uri": "https://localhost:8080/",
     "height": 288
    },
    "id": "AMj4b02yfbo7",
    "outputId": "859eaf4e-1dad-46df-b0d0-dcf63cfd8f37"
   },
   "outputs": [
    {
     "data": {
      "text/html": [
       "\n",
       "  <div id=\"df-b21e502f-34ab-4dd2-93df-1ca2a89da586\">\n",
       "    <div class=\"colab-df-container\">\n",
       "      <div>\n",
       "<style scoped>\n",
       "    .dataframe tbody tr th:only-of-type {\n",
       "        vertical-align: middle;\n",
       "    }\n",
       "\n",
       "    .dataframe tbody tr th {\n",
       "        vertical-align: top;\n",
       "    }\n",
       "\n",
       "    .dataframe thead th {\n",
       "        text-align: right;\n",
       "    }\n",
       "</style>\n",
       "<table border=\"1\" class=\"dataframe\">\n",
       "  <thead>\n",
       "    <tr style=\"text-align: right;\">\n",
       "      <th></th>\n",
       "      <th>Decision Tree without weight class</th>\n",
       "      <th>Bagging model without tweak</th>\n",
       "      <th>Bagging model with weight class</th>\n",
       "      <th>Random Forest without weight class</th>\n",
       "      <th>Random Forest with weight class</th>\n",
       "      <th>AdaBoosting without tweak</th>\n",
       "      <th>Gradient Boosting without tweak</th>\n",
       "      <th>Decision Tree tuned</th>\n",
       "      <th>Bagging tuned</th>\n",
       "      <th>Random Forest tuned</th>\n",
       "      <th>AdaBoosting with tuned</th>\n",
       "      <th>Gradient Boosting with tuned</th>\n",
       "      <th>Stacking Model</th>\n",
       "    </tr>\n",
       "  </thead>\n",
       "  <tbody>\n",
       "    <tr>\n",
       "      <th>Accuracy</th>\n",
       "      <td>1.0</td>\n",
       "      <td>0.995868</td>\n",
       "      <td>0.995868</td>\n",
       "      <td>1.0</td>\n",
       "      <td>1.0</td>\n",
       "      <td>0.880165</td>\n",
       "      <td>0.983471</td>\n",
       "      <td>0.756198</td>\n",
       "      <td>0.991736</td>\n",
       "      <td>0.826446</td>\n",
       "      <td>0.851240</td>\n",
       "      <td>1.0</td>\n",
       "      <td>0.859504</td>\n",
       "    </tr>\n",
       "    <tr>\n",
       "      <th>Recall</th>\n",
       "      <td>1.0</td>\n",
       "      <td>0.990991</td>\n",
       "      <td>0.990991</td>\n",
       "      <td>1.0</td>\n",
       "      <td>1.0</td>\n",
       "      <td>0.855856</td>\n",
       "      <td>0.972973</td>\n",
       "      <td>0.756757</td>\n",
       "      <td>1.000000</td>\n",
       "      <td>0.792793</td>\n",
       "      <td>0.810811</td>\n",
       "      <td>1.0</td>\n",
       "      <td>0.837838</td>\n",
       "    </tr>\n",
       "    <tr>\n",
       "      <th>Precision</th>\n",
       "      <td>1.0</td>\n",
       "      <td>1.000000</td>\n",
       "      <td>1.000000</td>\n",
       "      <td>1.0</td>\n",
       "      <td>1.0</td>\n",
       "      <td>0.879630</td>\n",
       "      <td>0.990826</td>\n",
       "      <td>0.724138</td>\n",
       "      <td>0.982301</td>\n",
       "      <td>0.822430</td>\n",
       "      <td>0.857143</td>\n",
       "      <td>1.0</td>\n",
       "      <td>0.853211</td>\n",
       "    </tr>\n",
       "    <tr>\n",
       "      <th>F1</th>\n",
       "      <td>1.0</td>\n",
       "      <td>0.995475</td>\n",
       "      <td>0.995475</td>\n",
       "      <td>1.0</td>\n",
       "      <td>1.0</td>\n",
       "      <td>0.867580</td>\n",
       "      <td>0.981818</td>\n",
       "      <td>0.740088</td>\n",
       "      <td>0.991071</td>\n",
       "      <td>0.807339</td>\n",
       "      <td>0.833333</td>\n",
       "      <td>1.0</td>\n",
       "      <td>0.845455</td>\n",
       "    </tr>\n",
       "  </tbody>\n",
       "</table>\n",
       "</div>\n",
       "      <button class=\"colab-df-convert\" onclick=\"convertToInteractive('df-b21e502f-34ab-4dd2-93df-1ca2a89da586')\"\n",
       "              title=\"Convert this dataframe to an interactive table.\"\n",
       "              style=\"display:none;\">\n",
       "        \n",
       "  <svg xmlns=\"http://www.w3.org/2000/svg\" height=\"24px\"viewBox=\"0 0 24 24\"\n",
       "       width=\"24px\">\n",
       "    <path d=\"M0 0h24v24H0V0z\" fill=\"none\"/>\n",
       "    <path d=\"M18.56 5.44l.94 2.06.94-2.06 2.06-.94-2.06-.94-.94-2.06-.94 2.06-2.06.94zm-11 1L8.5 8.5l.94-2.06 2.06-.94-2.06-.94L8.5 2.5l-.94 2.06-2.06.94zm10 10l.94 2.06.94-2.06 2.06-.94-2.06-.94-.94-2.06-.94 2.06-2.06.94z\"/><path d=\"M17.41 7.96l-1.37-1.37c-.4-.4-.92-.59-1.43-.59-.52 0-1.04.2-1.43.59L10.3 9.45l-7.72 7.72c-.78.78-.78 2.05 0 2.83L4 21.41c.39.39.9.59 1.41.59.51 0 1.02-.2 1.41-.59l7.78-7.78 2.81-2.81c.8-.78.8-2.07 0-2.86zM5.41 20L4 18.59l7.72-7.72 1.47 1.35L5.41 20z\"/>\n",
       "  </svg>\n",
       "      </button>\n",
       "      \n",
       "  <style>\n",
       "    .colab-df-container {\n",
       "      display:flex;\n",
       "      flex-wrap:wrap;\n",
       "      gap: 12px;\n",
       "    }\n",
       "\n",
       "    .colab-df-convert {\n",
       "      background-color: #E8F0FE;\n",
       "      border: none;\n",
       "      border-radius: 50%;\n",
       "      cursor: pointer;\n",
       "      display: none;\n",
       "      fill: #1967D2;\n",
       "      height: 32px;\n",
       "      padding: 0 0 0 0;\n",
       "      width: 32px;\n",
       "    }\n",
       "\n",
       "    .colab-df-convert:hover {\n",
       "      background-color: #E2EBFA;\n",
       "      box-shadow: 0px 1px 2px rgba(60, 64, 67, 0.3), 0px 1px 3px 1px rgba(60, 64, 67, 0.15);\n",
       "      fill: #174EA6;\n",
       "    }\n",
       "\n",
       "    [theme=dark] .colab-df-convert {\n",
       "      background-color: #3B4455;\n",
       "      fill: #D2E3FC;\n",
       "    }\n",
       "\n",
       "    [theme=dark] .colab-df-convert:hover {\n",
       "      background-color: #434B5C;\n",
       "      box-shadow: 0px 1px 3px 1px rgba(0, 0, 0, 0.15);\n",
       "      filter: drop-shadow(0px 1px 2px rgba(0, 0, 0, 0.3));\n",
       "      fill: #FFFFFF;\n",
       "    }\n",
       "  </style>\n",
       "\n",
       "      <script>\n",
       "        const buttonEl =\n",
       "          document.querySelector('#df-b21e502f-34ab-4dd2-93df-1ca2a89da586 button.colab-df-convert');\n",
       "        buttonEl.style.display =\n",
       "          google.colab.kernel.accessAllowed ? 'block' : 'none';\n",
       "\n",
       "        async function convertToInteractive(key) {\n",
       "          const element = document.querySelector('#df-b21e502f-34ab-4dd2-93df-1ca2a89da586');\n",
       "          const dataTable =\n",
       "            await google.colab.kernel.invokeFunction('convertToInteractive',\n",
       "                                                     [key], {});\n",
       "          if (!dataTable) return;\n",
       "\n",
       "          const docLinkHtml = 'Like what you see? Visit the ' +\n",
       "            '<a target=\"_blank\" href=https://colab.research.google.com/notebooks/data_table.ipynb>data table notebook</a>'\n",
       "            + ' to learn more about interactive tables.';\n",
       "          element.innerHTML = '';\n",
       "          dataTable['output_type'] = 'display_data';\n",
       "          await google.colab.output.renderOutput(dataTable, element);\n",
       "          const docLink = document.createElement('div');\n",
       "          docLink.innerHTML = docLinkHtml;\n",
       "          element.appendChild(docLink);\n",
       "        }\n",
       "      </script>\n",
       "    </div>\n",
       "  </div>\n",
       "  "
      ],
      "text/plain": [
       "           Decision Tree without weight class  Bagging model without tweak  \\\n",
       "Accuracy                                  1.0                     0.995868   \n",
       "Recall                                    1.0                     0.990991   \n",
       "Precision                                 1.0                     1.000000   \n",
       "F1                                        1.0                     0.995475   \n",
       "\n",
       "           Bagging model with weight class  \\\n",
       "Accuracy                          0.995868   \n",
       "Recall                            0.990991   \n",
       "Precision                         1.000000   \n",
       "F1                                0.995475   \n",
       "\n",
       "           Random Forest without weight class  \\\n",
       "Accuracy                                  1.0   \n",
       "Recall                                    1.0   \n",
       "Precision                                 1.0   \n",
       "F1                                        1.0   \n",
       "\n",
       "           Random Forest with weight class  AdaBoosting without tweak  \\\n",
       "Accuracy                               1.0                   0.880165   \n",
       "Recall                                 1.0                   0.855856   \n",
       "Precision                              1.0                   0.879630   \n",
       "F1                                     1.0                   0.867580   \n",
       "\n",
       "           Gradient Boosting without tweak  Decision Tree tuned  \\\n",
       "Accuracy                          0.983471             0.756198   \n",
       "Recall                            0.972973             0.756757   \n",
       "Precision                         0.990826             0.724138   \n",
       "F1                                0.981818             0.740088   \n",
       "\n",
       "           Bagging tuned  Random Forest tuned  AdaBoosting with tuned  \\\n",
       "Accuracy        0.991736             0.826446                0.851240   \n",
       "Recall          1.000000             0.792793                0.810811   \n",
       "Precision       0.982301             0.822430                0.857143   \n",
       "F1              0.991071             0.807339                0.833333   \n",
       "\n",
       "           Gradient Boosting with tuned  Stacking Model  \n",
       "Accuracy                            1.0        0.859504  \n",
       "Recall                              1.0        0.837838  \n",
       "Precision                           1.0        0.853211  \n",
       "F1                                  1.0        0.845455  "
      ]
     },
     "execution_count": 234,
     "metadata": {},
     "output_type": "execute_result"
    }
   ],
   "source": [
    "models_train_comp_df"
   ]
  },
  {
   "cell_type": "code",
   "execution_count": 235,
   "metadata": {
    "colab": {
     "base_uri": "https://localhost:8080/",
     "height": 288
    },
    "id": "qnVlHUXPfdD8",
    "outputId": "4ec68b83-9da0-45a9-b3ef-1b8cd646b6e8"
   },
   "outputs": [
    {
     "data": {
      "text/html": [
       "\n",
       "  <div id=\"df-a11976de-6b2c-4694-8689-13db37a07e1c\">\n",
       "    <div class=\"colab-df-container\">\n",
       "      <div>\n",
       "<style scoped>\n",
       "    .dataframe tbody tr th:only-of-type {\n",
       "        vertical-align: middle;\n",
       "    }\n",
       "\n",
       "    .dataframe tbody tr th {\n",
       "        vertical-align: top;\n",
       "    }\n",
       "\n",
       "    .dataframe thead th {\n",
       "        text-align: right;\n",
       "    }\n",
       "</style>\n",
       "<table border=\"1\" class=\"dataframe\">\n",
       "  <thead>\n",
       "    <tr style=\"text-align: right;\">\n",
       "      <th></th>\n",
       "      <th>Decision Tree without weight class</th>\n",
       "      <th>Bagging model without tweak</th>\n",
       "      <th>Bagging model with weight class</th>\n",
       "      <th>Random Forest without weight class</th>\n",
       "      <th>Random Forest with weight class</th>\n",
       "      <th>AdaBoosting without tweak</th>\n",
       "      <th>Gradient Boosting without tweak</th>\n",
       "      <th>Decision Tree tuned</th>\n",
       "      <th>Bagging tuned</th>\n",
       "      <th>Random Forest tuned</th>\n",
       "      <th>AdaBoosting with tuned</th>\n",
       "      <th>Gradient Boosting with tuned</th>\n",
       "      <th>Stacking Model</th>\n",
       "    </tr>\n",
       "  </thead>\n",
       "  <tbody>\n",
       "    <tr>\n",
       "      <th>Accuracy</th>\n",
       "      <td>0.622951</td>\n",
       "      <td>0.688525</td>\n",
       "      <td>0.704918</td>\n",
       "      <td>0.737705</td>\n",
       "      <td>0.721311</td>\n",
       "      <td>0.721311</td>\n",
       "      <td>0.655738</td>\n",
       "      <td>0.770492</td>\n",
       "      <td>0.688525</td>\n",
       "      <td>0.754098</td>\n",
       "      <td>0.770492</td>\n",
       "      <td>0.721311</td>\n",
       "      <td>0.672131</td>\n",
       "    </tr>\n",
       "    <tr>\n",
       "      <th>Recall</th>\n",
       "      <td>0.678571</td>\n",
       "      <td>0.642857</td>\n",
       "      <td>0.678571</td>\n",
       "      <td>0.642857</td>\n",
       "      <td>0.678571</td>\n",
       "      <td>0.607143</td>\n",
       "      <td>0.571429</td>\n",
       "      <td>0.750000</td>\n",
       "      <td>0.678571</td>\n",
       "      <td>0.678571</td>\n",
       "      <td>0.678571</td>\n",
       "      <td>0.678571</td>\n",
       "      <td>0.571429</td>\n",
       "    </tr>\n",
       "    <tr>\n",
       "      <th>Precision</th>\n",
       "      <td>0.575758</td>\n",
       "      <td>0.666667</td>\n",
       "      <td>0.678571</td>\n",
       "      <td>0.750000</td>\n",
       "      <td>0.703704</td>\n",
       "      <td>0.739130</td>\n",
       "      <td>0.640000</td>\n",
       "      <td>0.750000</td>\n",
       "      <td>0.655172</td>\n",
       "      <td>0.760000</td>\n",
       "      <td>0.791667</td>\n",
       "      <td>0.703704</td>\n",
       "      <td>0.666667</td>\n",
       "    </tr>\n",
       "    <tr>\n",
       "      <th>F1</th>\n",
       "      <td>0.622951</td>\n",
       "      <td>0.654545</td>\n",
       "      <td>0.678571</td>\n",
       "      <td>0.692308</td>\n",
       "      <td>0.690909</td>\n",
       "      <td>0.666667</td>\n",
       "      <td>0.603774</td>\n",
       "      <td>0.750000</td>\n",
       "      <td>0.666667</td>\n",
       "      <td>0.716981</td>\n",
       "      <td>0.730769</td>\n",
       "      <td>0.690909</td>\n",
       "      <td>0.615385</td>\n",
       "    </tr>\n",
       "  </tbody>\n",
       "</table>\n",
       "</div>\n",
       "      <button class=\"colab-df-convert\" onclick=\"convertToInteractive('df-a11976de-6b2c-4694-8689-13db37a07e1c')\"\n",
       "              title=\"Convert this dataframe to an interactive table.\"\n",
       "              style=\"display:none;\">\n",
       "        \n",
       "  <svg xmlns=\"http://www.w3.org/2000/svg\" height=\"24px\"viewBox=\"0 0 24 24\"\n",
       "       width=\"24px\">\n",
       "    <path d=\"M0 0h24v24H0V0z\" fill=\"none\"/>\n",
       "    <path d=\"M18.56 5.44l.94 2.06.94-2.06 2.06-.94-2.06-.94-.94-2.06-.94 2.06-2.06.94zm-11 1L8.5 8.5l.94-2.06 2.06-.94-2.06-.94L8.5 2.5l-.94 2.06-2.06.94zm10 10l.94 2.06.94-2.06 2.06-.94-2.06-.94-.94-2.06-.94 2.06-2.06.94z\"/><path d=\"M17.41 7.96l-1.37-1.37c-.4-.4-.92-.59-1.43-.59-.52 0-1.04.2-1.43.59L10.3 9.45l-7.72 7.72c-.78.78-.78 2.05 0 2.83L4 21.41c.39.39.9.59 1.41.59.51 0 1.02-.2 1.41-.59l7.78-7.78 2.81-2.81c.8-.78.8-2.07 0-2.86zM5.41 20L4 18.59l7.72-7.72 1.47 1.35L5.41 20z\"/>\n",
       "  </svg>\n",
       "      </button>\n",
       "      \n",
       "  <style>\n",
       "    .colab-df-container {\n",
       "      display:flex;\n",
       "      flex-wrap:wrap;\n",
       "      gap: 12px;\n",
       "    }\n",
       "\n",
       "    .colab-df-convert {\n",
       "      background-color: #E8F0FE;\n",
       "      border: none;\n",
       "      border-radius: 50%;\n",
       "      cursor: pointer;\n",
       "      display: none;\n",
       "      fill: #1967D2;\n",
       "      height: 32px;\n",
       "      padding: 0 0 0 0;\n",
       "      width: 32px;\n",
       "    }\n",
       "\n",
       "    .colab-df-convert:hover {\n",
       "      background-color: #E2EBFA;\n",
       "      box-shadow: 0px 1px 2px rgba(60, 64, 67, 0.3), 0px 1px 3px 1px rgba(60, 64, 67, 0.15);\n",
       "      fill: #174EA6;\n",
       "    }\n",
       "\n",
       "    [theme=dark] .colab-df-convert {\n",
       "      background-color: #3B4455;\n",
       "      fill: #D2E3FC;\n",
       "    }\n",
       "\n",
       "    [theme=dark] .colab-df-convert:hover {\n",
       "      background-color: #434B5C;\n",
       "      box-shadow: 0px 1px 3px 1px rgba(0, 0, 0, 0.15);\n",
       "      filter: drop-shadow(0px 1px 2px rgba(0, 0, 0, 0.3));\n",
       "      fill: #FFFFFF;\n",
       "    }\n",
       "  </style>\n",
       "\n",
       "      <script>\n",
       "        const buttonEl =\n",
       "          document.querySelector('#df-a11976de-6b2c-4694-8689-13db37a07e1c button.colab-df-convert');\n",
       "        buttonEl.style.display =\n",
       "          google.colab.kernel.accessAllowed ? 'block' : 'none';\n",
       "\n",
       "        async function convertToInteractive(key) {\n",
       "          const element = document.querySelector('#df-a11976de-6b2c-4694-8689-13db37a07e1c');\n",
       "          const dataTable =\n",
       "            await google.colab.kernel.invokeFunction('convertToInteractive',\n",
       "                                                     [key], {});\n",
       "          if (!dataTable) return;\n",
       "\n",
       "          const docLinkHtml = 'Like what you see? Visit the ' +\n",
       "            '<a target=\"_blank\" href=https://colab.research.google.com/notebooks/data_table.ipynb>data table notebook</a>'\n",
       "            + ' to learn more about interactive tables.';\n",
       "          element.innerHTML = '';\n",
       "          dataTable['output_type'] = 'display_data';\n",
       "          await google.colab.output.renderOutput(dataTable, element);\n",
       "          const docLink = document.createElement('div');\n",
       "          docLink.innerHTML = docLinkHtml;\n",
       "          element.appendChild(docLink);\n",
       "        }\n",
       "      </script>\n",
       "    </div>\n",
       "  </div>\n",
       "  "
      ],
      "text/plain": [
       "           Decision Tree without weight class  Bagging model without tweak  \\\n",
       "Accuracy                             0.622951                     0.688525   \n",
       "Recall                               0.678571                     0.642857   \n",
       "Precision                            0.575758                     0.666667   \n",
       "F1                                   0.622951                     0.654545   \n",
       "\n",
       "           Bagging model with weight class  \\\n",
       "Accuracy                          0.704918   \n",
       "Recall                            0.678571   \n",
       "Precision                         0.678571   \n",
       "F1                                0.678571   \n",
       "\n",
       "           Random Forest without weight class  \\\n",
       "Accuracy                             0.737705   \n",
       "Recall                               0.642857   \n",
       "Precision                            0.750000   \n",
       "F1                                   0.692308   \n",
       "\n",
       "           Random Forest with weight class  AdaBoosting without tweak  \\\n",
       "Accuracy                          0.721311                   0.721311   \n",
       "Recall                            0.678571                   0.607143   \n",
       "Precision                         0.703704                   0.739130   \n",
       "F1                                0.690909                   0.666667   \n",
       "\n",
       "           Gradient Boosting without tweak  Decision Tree tuned  \\\n",
       "Accuracy                          0.655738             0.770492   \n",
       "Recall                            0.571429             0.750000   \n",
       "Precision                         0.640000             0.750000   \n",
       "F1                                0.603774             0.750000   \n",
       "\n",
       "           Bagging tuned  Random Forest tuned  AdaBoosting with tuned  \\\n",
       "Accuracy        0.688525             0.754098                0.770492   \n",
       "Recall          0.678571             0.678571                0.678571   \n",
       "Precision       0.655172             0.760000                0.791667   \n",
       "F1              0.666667             0.716981                0.730769   \n",
       "\n",
       "           Gradient Boosting with tuned  Stacking Model  \n",
       "Accuracy                       0.721311        0.672131  \n",
       "Recall                         0.678571        0.571429  \n",
       "Precision                      0.703704        0.666667  \n",
       "F1                             0.690909        0.615385  "
      ]
     },
     "execution_count": 235,
     "metadata": {},
     "output_type": "execute_result"
    }
   ],
   "source": [
    "models_test_comp_df"
   ]
  },
  {
   "cell_type": "markdown",
   "metadata": {
    "id": "oIG6LcLIfpKJ"
   },
   "source": [
    "### Let's check the importance of each feature in the Gradient Boosting with tuned model."
   ]
  },
  {
   "cell_type": "code",
   "execution_count": 236,
   "metadata": {
    "colab": {
     "base_uri": "https://localhost:8080/",
     "height": 730
    },
    "id": "_cqKQxJ4ffBg",
    "outputId": "d88d36d8-f8b2-4ca9-d215-3d32d8d3ee89"
   },
   "outputs": [
    {
     "data": {
      "image/png": "[encoded data removed]",
      "text/plain": [
       "<Figure size 864x864 with 1 Axes>"
      ]
     },
     "metadata": {
      "needs_background": "light"
     },
     "output_type": "display_data"
    }
   ],
   "source": [
    "feature_names = X_train.columns\n",
    "importances = gbc_tuned.feature_importances_\n",
    "indices = np.argsort(importances)\n",
    "\n",
    "plt.figure(figsize=(12,12))\n",
    "plt.title('Feature Importances')\n",
    "plt.barh(range(len(indices)), importances[indices], color='violet', align='center')\n",
    "plt.yticks(range(len(indices)), [feature_names[i] for i in indices])\n",
    "plt.xlabel('Relative Importance')\n",
    "plt.show()"
   ]
  },
  {
   "cell_type": "markdown",
   "metadata": {},
   "source": [
    "## Summary\n",
    "- All in all, the model that we got the highest recall score and not overfitted in the training data is the model that tuned for decision tree, the recall score in the test dataset is 0.75.\n",
    "- We are not sure why the recall, accuracy, f1, and precision score is even lower in the stacking model, maybe because of the small data size or because our feature engineering was insufficient.\n",
    "- From above feature importances, we can notice that Asymptomatic type of pain are the most import feature that can be caused heart disease, followed by Age and MaxHeartRate."
   ]
  },
  {
   "cell_type": "markdown",
   "metadata": {},
   "source": [
    "---"
   ]
  }
 ],
 "metadata": {
  "colab": {
   "provenance": []
  },
  "kernelspec": {
   "display_name": "Python 3 (ipykernel)",
   "language": "python",
   "name": "python3"
  },
  "language_info": {
   "codemirror_mode": {
    "name": "ipython",
    "version": 3
   },
   "file_extension": ".py",
   "mimetype": "text/x-python",
   "name": "python",
   "nbconvert_exporter": "python",
   "pygments_lexer": "ipython3",
   "version": "3.9.7"
  }
 },
 "nbformat": 4,
 "nbformat_minor": 1
}
